{
 "cells": [
  {
   "cell_type": "markdown",
   "metadata": {},
   "source": [
    "# START"
   ]
  },
  {
   "cell_type": "code",
   "execution_count": 1,
   "metadata": {},
   "outputs": [],
   "source": [
    "import matplotlib.pyplot as plt\n",
    "import seaborn as sns\n",
    "def single_violin(expr,gene):\n",
    "    # Create a violin plot of expression values\n",
    "    plt.figure(figsize=(8, 6))\n",
    "    sns.violinplot(y=expr, color=\"skyblue\", inner=\"box\")\n",
    "    # Calculate statistics\n",
    "    mean_expression = expr.mean()\n",
    "    median_expression = expr.median()\n",
    "\n",
    "\n",
    "    # Add mean and median lines\n",
    "    plt.axhline(mean_expression, color=\"red\",  linewidth=1)\n",
    "    plt.axhline(median_expression, color=\"green\",  linewidth=1)\n",
    "    plt.text(0, mean_expression, f\"Mean: {mean_expression:.2f}\", color=\"red\", fontsize=8)\n",
    "    plt.text(0, median_expression, f\"Median: {median_expression:.2f}\", color=\"green\", fontsize=8)\n",
    "\n",
    "    # Customize the plot\n",
    "    plt.title(f\"Distribution of Expression Values for {gene}\")\n",
    "    plt.ylabel(\"Expression Value\")\n",
    "    plt.xlabel(\"All Samples (ROIs)\")\n",
    "    plt.show()"
   ]
  },
  {
   "cell_type": "markdown",
   "metadata": {},
   "source": [
    "# Load the spatial data"
   ]
  },
  {
   "cell_type": "code",
   "execution_count": 2,
   "metadata": {},
   "outputs": [],
   "source": [
    "import pandas as pd\n",
    "import numpy as np\n",
    "import os\n",
    "from LEAPdata import get_slide_id, get_leap_ids"
   ]
  },
  {
   "cell_type": "code",
   "execution_count": 3,
   "metadata": {},
   "outputs": [],
   "source": [
    "OME_LEVEL = 2 # should be level 1 but haven't extracted at 20x yet\n",
    "DOWNSAMPLE = 2**OME_LEVEL\n",
    "segment='CD45+'\n",
    "\n",
    "file_path = 'C:/Users/hooll/Dropbox/19 PostGrad/00 CB Lab/01 projects/06 MultiModal/data/LEAP'\n",
    "input_path = 'E:/01-data/LEAP'"
   ]
  },
  {
   "cell_type": "code",
   "execution_count": 4,
   "metadata": {},
   "outputs": [],
   "source": [
    "\n",
    "sample_metadata = pd.read_excel(os.path.join(file_path,'latest',\"meta_data.xlsx\"), index_col=0)\n",
    "samples = pd.read_excel(os.path.join(file_path,\"samples.xlsx\"), index_col=0)"
   ]
  },
  {
   "cell_type": "code",
   "execution_count": 5,
   "metadata": {},
   "outputs": [
    {
     "data": {
      "text/html": [
       "<div>\n",
       "<style scoped>\n",
       "    .dataframe tbody tr th:only-of-type {\n",
       "        vertical-align: middle;\n",
       "    }\n",
       "\n",
       "    .dataframe tbody tr th {\n",
       "        vertical-align: top;\n",
       "    }\n",
       "\n",
       "    .dataframe thead th {\n",
       "        text-align: right;\n",
       "    }\n",
       "</style>\n",
       "<table border=\"1\" class=\"dataframe\">\n",
       "  <thead>\n",
       "    <tr style=\"text-align: right;\">\n",
       "      <th></th>\n",
       "      <th>Biobank_ID</th>\n",
       "      <th>Slide_ID</th>\n",
       "      <th>H&amp;E</th>\n",
       "      <th>Response</th>\n",
       "      <th>ECT_Carbo</th>\n",
       "    </tr>\n",
       "    <tr>\n",
       "      <th>LEAP_ID</th>\n",
       "      <th></th>\n",
       "      <th></th>\n",
       "      <th></th>\n",
       "      <th></th>\n",
       "      <th></th>\n",
       "    </tr>\n",
       "  </thead>\n",
       "  <tbody>\n",
       "    <tr>\n",
       "      <th>LEAP001</th>\n",
       "      <td>19005858</td>\n",
       "      <td>1</td>\n",
       "      <td>YES</td>\n",
       "      <td>Non-Responder</td>\n",
       "      <td>NO</td>\n",
       "    </tr>\n",
       "    <tr>\n",
       "      <th>LEAP003</th>\n",
       "      <td>21002266</td>\n",
       "      <td>2</td>\n",
       "      <td>YES</td>\n",
       "      <td>Non-Responder</td>\n",
       "      <td>NO</td>\n",
       "    </tr>\n",
       "    <tr>\n",
       "      <th>LEAP005</th>\n",
       "      <td>22001707</td>\n",
       "      <td>3</td>\n",
       "      <td>YES</td>\n",
       "      <td>Non-Responder</td>\n",
       "      <td>NO</td>\n",
       "    </tr>\n",
       "    <tr>\n",
       "      <th>LEAP008</th>\n",
       "      <td>22001709</td>\n",
       "      <td>4</td>\n",
       "      <td>YES</td>\n",
       "      <td>Responder</td>\n",
       "      <td>YES</td>\n",
       "    </tr>\n",
       "    <tr>\n",
       "      <th>LEAP009</th>\n",
       "      <td>19005859</td>\n",
       "      <td>5</td>\n",
       "      <td>YES</td>\n",
       "      <td>Responder</td>\n",
       "      <td>NO</td>\n",
       "    </tr>\n",
       "  </tbody>\n",
       "</table>\n",
       "</div>"
      ],
      "text/plain": [
       "         Biobank_ID  Slide_ID  H&E       Response ECT_Carbo\n",
       "LEAP_ID                                                    \n",
       "LEAP001    19005858         1  YES  Non-Responder        NO\n",
       "LEAP003    21002266         2  YES  Non-Responder        NO\n",
       "LEAP005    22001707         3  YES  Non-Responder        NO\n",
       "LEAP008    22001709         4  YES      Responder       YES\n",
       "LEAP009    19005859         5  YES      Responder        NO"
      ]
     },
     "execution_count": 5,
     "metadata": {},
     "output_type": "execute_result"
    }
   ],
   "source": [
    "samples.head()"
   ]
  },
  {
   "cell_type": "code",
   "execution_count": 6,
   "metadata": {},
   "outputs": [
    {
     "data": {
      "text/html": [
       "<div>\n",
       "<style scoped>\n",
       "    .dataframe tbody tr th:only-of-type {\n",
       "        vertical-align: middle;\n",
       "    }\n",
       "\n",
       "    .dataframe tbody tr th {\n",
       "        vertical-align: top;\n",
       "    }\n",
       "\n",
       "    .dataframe thead th {\n",
       "        text-align: right;\n",
       "    }\n",
       "</style>\n",
       "<table border=\"1\" class=\"dataframe\">\n",
       "  <thead>\n",
       "    <tr style=\"text-align: right;\">\n",
       "      <th></th>\n",
       "      <th>Scan.Name</th>\n",
       "      <th>Panel</th>\n",
       "      <th>Roi</th>\n",
       "      <th>Segment</th>\n",
       "      <th>Aoi</th>\n",
       "      <th>Area</th>\n",
       "      <th>Tags</th>\n",
       "      <th>Nuclei</th>\n",
       "      <th>ROICoordinateX</th>\n",
       "      <th>ROICoordinateY</th>\n",
       "      <th>...</th>\n",
       "      <th>NegGeoMean</th>\n",
       "      <th>NegGeoSD</th>\n",
       "      <th>NegProbes</th>\n",
       "      <th>lib_size</th>\n",
       "      <th>countOfLowEprGene</th>\n",
       "      <th>percentOfLowEprGene</th>\n",
       "      <th>ruv_W1</th>\n",
       "      <th>ruv_W2</th>\n",
       "      <th>ruv_W3</th>\n",
       "      <th>ruv_W4</th>\n",
       "    </tr>\n",
       "    <tr>\n",
       "      <th>DCC_ID</th>\n",
       "      <th></th>\n",
       "      <th></th>\n",
       "      <th></th>\n",
       "      <th></th>\n",
       "      <th></th>\n",
       "      <th></th>\n",
       "      <th></th>\n",
       "      <th></th>\n",
       "      <th></th>\n",
       "      <th></th>\n",
       "      <th></th>\n",
       "      <th></th>\n",
       "      <th></th>\n",
       "      <th></th>\n",
       "      <th></th>\n",
       "      <th></th>\n",
       "      <th></th>\n",
       "      <th></th>\n",
       "      <th></th>\n",
       "      <th></th>\n",
       "      <th></th>\n",
       "    </tr>\n",
       "  </thead>\n",
       "  <tbody>\n",
       "    <tr>\n",
       "      <th>DSP-1001660008694-G-A02.dcc</th>\n",
       "      <td>LEAP015, LEAP016</td>\n",
       "      <td>(v1.0) Human NGS Whole Transcriptome Atlas RNA</td>\n",
       "      <td>1.0</td>\n",
       "      <td>CD45+</td>\n",
       "      <td>CD45+-aoi-001</td>\n",
       "      <td>7186.20</td>\n",
       "      <td>PanCK+, CD45+, CD45+</td>\n",
       "      <td>119</td>\n",
       "      <td>76238.40625</td>\n",
       "      <td>34222.16797</td>\n",
       "      <td>...</td>\n",
       "      <td>1.008594</td>\n",
       "      <td>1.080060</td>\n",
       "      <td>False</td>\n",
       "      <td>22680</td>\n",
       "      <td>0</td>\n",
       "      <td>0.000000</td>\n",
       "      <td>-0.023221</td>\n",
       "      <td>-0.007044</td>\n",
       "      <td>-0.017423</td>\n",
       "      <td>0.022888</td>\n",
       "    </tr>\n",
       "    <tr>\n",
       "      <th>DSP-1001660008694-G-A03.dcc</th>\n",
       "      <td>LEAP015, LEAP016</td>\n",
       "      <td>(v1.0) Human NGS Whole Transcriptome Atlas RNA</td>\n",
       "      <td>1.0</td>\n",
       "      <td>PanCK+</td>\n",
       "      <td>PanCK+-aoi-001</td>\n",
       "      <td>12989.46</td>\n",
       "      <td>PanCK+, CD45+, PanCK+</td>\n",
       "      <td>239</td>\n",
       "      <td>76238.40625</td>\n",
       "      <td>34222.16797</td>\n",
       "      <td>...</td>\n",
       "      <td>1.115328</td>\n",
       "      <td>1.329805</td>\n",
       "      <td>False</td>\n",
       "      <td>51774</td>\n",
       "      <td>13492</td>\n",
       "      <td>73.087757</td>\n",
       "      <td>0.008550</td>\n",
       "      <td>-0.022099</td>\n",
       "      <td>0.023774</td>\n",
       "      <td>0.020598</td>\n",
       "    </tr>\n",
       "    <tr>\n",
       "      <th>DSP-1001660008694-G-A05.dcc</th>\n",
       "      <td>LEAP015, LEAP016</td>\n",
       "      <td>(v1.0) Human NGS Whole Transcriptome Atlas RNA</td>\n",
       "      <td>2.0</td>\n",
       "      <td>PanCK+</td>\n",
       "      <td>PanCK+-aoi-001</td>\n",
       "      <td>14576.49</td>\n",
       "      <td>PanCK+, CD45+, PanCK+</td>\n",
       "      <td>246</td>\n",
       "      <td>75587.60938</td>\n",
       "      <td>31947.06250</td>\n",
       "      <td>...</td>\n",
       "      <td>1.405232</td>\n",
       "      <td>1.600153</td>\n",
       "      <td>False</td>\n",
       "      <td>77467</td>\n",
       "      <td>11795</td>\n",
       "      <td>63.894908</td>\n",
       "      <td>0.006329</td>\n",
       "      <td>-0.020188</td>\n",
       "      <td>0.015802</td>\n",
       "      <td>-0.001984</td>\n",
       "    </tr>\n",
       "    <tr>\n",
       "      <th>DSP-1001660008694-G-A06.dcc</th>\n",
       "      <td>LEAP015, LEAP016</td>\n",
       "      <td>(v1.0) Human NGS Whole Transcriptome Atlas RNA</td>\n",
       "      <td>3.0</td>\n",
       "      <td>CD45+</td>\n",
       "      <td>CD45+-aoi-001</td>\n",
       "      <td>5066.89</td>\n",
       "      <td>PanCK+, CD45+, CD45+</td>\n",
       "      <td>85</td>\n",
       "      <td>76252.50000</td>\n",
       "      <td>29973.66797</td>\n",
       "      <td>...</td>\n",
       "      <td>1.017262</td>\n",
       "      <td>1.114309</td>\n",
       "      <td>False</td>\n",
       "      <td>20049</td>\n",
       "      <td>0</td>\n",
       "      <td>0.000000</td>\n",
       "      <td>-0.035865</td>\n",
       "      <td>-0.006889</td>\n",
       "      <td>-0.027053</td>\n",
       "      <td>0.014727</td>\n",
       "    </tr>\n",
       "    <tr>\n",
       "      <th>DSP-1001660008694-G-A07.dcc</th>\n",
       "      <td>LEAP015, LEAP016</td>\n",
       "      <td>(v1.0) Human NGS Whole Transcriptome Atlas RNA</td>\n",
       "      <td>3.0</td>\n",
       "      <td>PanCK+</td>\n",
       "      <td>PanCK+-aoi-001</td>\n",
       "      <td>41874.55</td>\n",
       "      <td>PanCK+, CD45+, PanCK+</td>\n",
       "      <td>796</td>\n",
       "      <td>76252.50000</td>\n",
       "      <td>29973.66797</td>\n",
       "      <td>...</td>\n",
       "      <td>3.029957</td>\n",
       "      <td>1.887786</td>\n",
       "      <td>False</td>\n",
       "      <td>274462</td>\n",
       "      <td>12122</td>\n",
       "      <td>65.666306</td>\n",
       "      <td>0.007790</td>\n",
       "      <td>-0.016314</td>\n",
       "      <td>0.018326</td>\n",
       "      <td>0.004932</td>\n",
       "    </tr>\n",
       "  </tbody>\n",
       "</table>\n",
       "<p>5 rows × 70 columns</p>\n",
       "</div>"
      ],
      "text/plain": [
       "                                    Scan.Name  \\\n",
       "DCC_ID                                          \n",
       "DSP-1001660008694-G-A02.dcc  LEAP015, LEAP016   \n",
       "DSP-1001660008694-G-A03.dcc  LEAP015, LEAP016   \n",
       "DSP-1001660008694-G-A05.dcc  LEAP015, LEAP016   \n",
       "DSP-1001660008694-G-A06.dcc  LEAP015, LEAP016   \n",
       "DSP-1001660008694-G-A07.dcc  LEAP015, LEAP016   \n",
       "\n",
       "                                                                      Panel  \\\n",
       "DCC_ID                                                                        \n",
       "DSP-1001660008694-G-A02.dcc  (v1.0) Human NGS Whole Transcriptome Atlas RNA   \n",
       "DSP-1001660008694-G-A03.dcc  (v1.0) Human NGS Whole Transcriptome Atlas RNA   \n",
       "DSP-1001660008694-G-A05.dcc  (v1.0) Human NGS Whole Transcriptome Atlas RNA   \n",
       "DSP-1001660008694-G-A06.dcc  (v1.0) Human NGS Whole Transcriptome Atlas RNA   \n",
       "DSP-1001660008694-G-A07.dcc  (v1.0) Human NGS Whole Transcriptome Atlas RNA   \n",
       "\n",
       "                             Roi Segment             Aoi      Area  \\\n",
       "DCC_ID                                                               \n",
       "DSP-1001660008694-G-A02.dcc  1.0   CD45+   CD45+-aoi-001   7186.20   \n",
       "DSP-1001660008694-G-A03.dcc  1.0  PanCK+  PanCK+-aoi-001  12989.46   \n",
       "DSP-1001660008694-G-A05.dcc  2.0  PanCK+  PanCK+-aoi-001  14576.49   \n",
       "DSP-1001660008694-G-A06.dcc  3.0   CD45+   CD45+-aoi-001   5066.89   \n",
       "DSP-1001660008694-G-A07.dcc  3.0  PanCK+  PanCK+-aoi-001  41874.55   \n",
       "\n",
       "                                              Tags  Nuclei  ROICoordinateX  \\\n",
       "DCC_ID                                                                       \n",
       "DSP-1001660008694-G-A02.dcc   PanCK+, CD45+, CD45+     119     76238.40625   \n",
       "DSP-1001660008694-G-A03.dcc  PanCK+, CD45+, PanCK+     239     76238.40625   \n",
       "DSP-1001660008694-G-A05.dcc  PanCK+, CD45+, PanCK+     246     75587.60938   \n",
       "DSP-1001660008694-G-A06.dcc   PanCK+, CD45+, CD45+      85     76252.50000   \n",
       "DSP-1001660008694-G-A07.dcc  PanCK+, CD45+, PanCK+     796     76252.50000   \n",
       "\n",
       "                             ROICoordinateY  ... NegGeoMean  NegGeoSD  \\\n",
       "DCC_ID                                       ...                        \n",
       "DSP-1001660008694-G-A02.dcc     34222.16797  ...   1.008594  1.080060   \n",
       "DSP-1001660008694-G-A03.dcc     34222.16797  ...   1.115328  1.329805   \n",
       "DSP-1001660008694-G-A05.dcc     31947.06250  ...   1.405232  1.600153   \n",
       "DSP-1001660008694-G-A06.dcc     29973.66797  ...   1.017262  1.114309   \n",
       "DSP-1001660008694-G-A07.dcc     29973.66797  ...   3.029957  1.887786   \n",
       "\n",
       "                             NegProbes  lib_size  countOfLowEprGene  \\\n",
       "DCC_ID                                                                \n",
       "DSP-1001660008694-G-A02.dcc      False     22680                  0   \n",
       "DSP-1001660008694-G-A03.dcc      False     51774              13492   \n",
       "DSP-1001660008694-G-A05.dcc      False     77467              11795   \n",
       "DSP-1001660008694-G-A06.dcc      False     20049                  0   \n",
       "DSP-1001660008694-G-A07.dcc      False    274462              12122   \n",
       "\n",
       "                            percentOfLowEprGene    ruv_W1    ruv_W2    ruv_W3  \\\n",
       "DCC_ID                                                                          \n",
       "DSP-1001660008694-G-A02.dcc            0.000000 -0.023221 -0.007044 -0.017423   \n",
       "DSP-1001660008694-G-A03.dcc           73.087757  0.008550 -0.022099  0.023774   \n",
       "DSP-1001660008694-G-A05.dcc           63.894908  0.006329 -0.020188  0.015802   \n",
       "DSP-1001660008694-G-A06.dcc            0.000000 -0.035865 -0.006889 -0.027053   \n",
       "DSP-1001660008694-G-A07.dcc           65.666306  0.007790 -0.016314  0.018326   \n",
       "\n",
       "                               ruv_W4  \n",
       "DCC_ID                                 \n",
       "DSP-1001660008694-G-A02.dcc  0.022888  \n",
       "DSP-1001660008694-G-A03.dcc  0.020598  \n",
       "DSP-1001660008694-G-A05.dcc -0.001984  \n",
       "DSP-1001660008694-G-A06.dcc  0.014727  \n",
       "DSP-1001660008694-G-A07.dcc  0.004932  \n",
       "\n",
       "[5 rows x 70 columns]"
      ]
     },
     "execution_count": 6,
     "metadata": {},
     "output_type": "execute_result"
    }
   ],
   "source": [
    "sample_metadata = sample_metadata.set_index('DCC_ID')\n",
    "sample_metadata.head()"
   ]
  },
  {
   "cell_type": "code",
   "execution_count": 7,
   "metadata": {},
   "outputs": [
    {
     "data": {
      "text/plain": [
       "Index(['Scan.Name', 'Panel', 'Roi', 'Segment', 'Aoi', 'Area', 'Tags', 'Nuclei',\n",
       "       'ROICoordinateX', 'ROICoordinateY', 'Scan.Date', 'Scan.Width',\n",
       "       'Scan.Height', 'Scan.Offset.X', 'Scan.Offset.Y', 'WTA.Atlas',\n",
       "       'X.v1.0..Human.NGS.TCR.Profiling.RNA.Add.On', 'Sample_ID', 'nuclei',\n",
       "       'area', 'NTC', 'NucleiZero', 'NucleiArea', 'AreaReads',\n",
       "       'NegGeoMean_Hs_R_NGS_WTA_v1.0', 'NegGeoSD_Hs_R_NGS_WTA_v1.0', 'LOQ',\n",
       "       'GenesDetected', 'GeneDetectionRate', 'Tissue_ID', 'LEAP_ID',\n",
       "       'Patient_ID', 'Sample_Type', 'Biobank_ID', 'Response', 'Date_Sectioned',\n",
       "       'Format', 'FORCE', 'ECT_Carbo', 'NACT_Group', 'sTILs', 'sTILs_Status',\n",
       "       'BRCA1_Status', 'BRCA2_Status', 'Age', 'Ethnicity', 'Year_Diagnosis',\n",
       "       'DistRecTime', 'DthTime', 'DistRecTime_Cat', 'DthTime_Cat', 'N_Stage',\n",
       "       'T_Stage', 'Grade', 'RCB_Scores', 'RCB_Group', 'Extreme_NR',\n",
       "       'Epithelial_E', 'Region_R', 'sample_id', 'NegGeoMean', 'NegGeoSD',\n",
       "       'NegProbes', 'lib_size', 'countOfLowEprGene', 'percentOfLowEprGene',\n",
       "       'ruv_W1', 'ruv_W2', 'ruv_W3', 'ruv_W4'],\n",
       "      dtype='object')"
      ]
     },
     "execution_count": 7,
     "metadata": {},
     "output_type": "execute_result"
    }
   ],
   "source": [
    "sample_metadata.columns"
   ]
  },
  {
   "cell_type": "code",
   "execution_count": 8,
   "metadata": {},
   "outputs": [],
   "source": [
    "#raw_matrix = pd.read_csv(os.path.join(file_path,\"raw_exprs.csv\"), index_col=0)\n",
    "#expression_matrix = raw_matrix.astype(float)"
   ]
  },
  {
   "cell_type": "code",
   "execution_count": 9,
   "metadata": {},
   "outputs": [],
   "source": [
    "#raw_matrix = pd.read_csv(os.path.join(file_path,'latest',\"norm_counts.csv\"), \n",
    "#                 sep=\";\",               # Semicolon separator\n",
    "#                 decimal=\",\",          # Comma as decimal point\n",
    "#                 quotechar='\"',        # Handle quoted strings\n",
    "#                 index_col=0)          # Use the first column as row index (gene name)"
   ]
  },
  {
   "cell_type": "code",
   "execution_count": 10,
   "metadata": {},
   "outputs": [],
   "source": [
    "raw_matrix = pd.read_csv(os.path.join(file_path,'latest',\"raw_counts.csv\"), \n",
    "                 sep=\";\",               # Semicolon separator\n",
    "                 decimal=\",\",          # Comma as decimal point\n",
    "                 quotechar='\"',        # Handle quoted strings\n",
    "                 index_col=0)          # Use the first column as row index (gene name)"
   ]
  },
  {
   "cell_type": "code",
   "execution_count": 11,
   "metadata": {},
   "outputs": [],
   "source": [
    "\n",
    "expression_matrix = raw_matrix.astype(float)"
   ]
  },
  {
   "cell_type": "code",
   "execution_count": 12,
   "metadata": {},
   "outputs": [
    {
     "data": {
      "text/html": [
       "<div>\n",
       "<style scoped>\n",
       "    .dataframe tbody tr th:only-of-type {\n",
       "        vertical-align: middle;\n",
       "    }\n",
       "\n",
       "    .dataframe tbody tr th {\n",
       "        vertical-align: top;\n",
       "    }\n",
       "\n",
       "    .dataframe thead th {\n",
       "        text-align: right;\n",
       "    }\n",
       "</style>\n",
       "<table border=\"1\" class=\"dataframe\">\n",
       "  <thead>\n",
       "    <tr style=\"text-align: right;\">\n",
       "      <th></th>\n",
       "      <th>DSP-1001660008694-G-A02.dcc</th>\n",
       "      <th>DSP-1001660008694-G-A03.dcc</th>\n",
       "      <th>DSP-1001660008694-G-A05.dcc</th>\n",
       "      <th>DSP-1001660008694-G-A06.dcc</th>\n",
       "      <th>DSP-1001660008694-G-A07.dcc</th>\n",
       "      <th>DSP-1001660008694-G-A08.dcc</th>\n",
       "      <th>DSP-1001660008694-G-A09.dcc</th>\n",
       "      <th>DSP-1001660008694-G-A10.dcc</th>\n",
       "      <th>DSP-1001660008694-G-A11.dcc</th>\n",
       "      <th>DSP-1001660008694-G-A12.dcc</th>\n",
       "      <th>...</th>\n",
       "      <th>DSP-1001660024022-D-H03.dcc</th>\n",
       "      <th>DSP-1001660024022-D-H04.dcc</th>\n",
       "      <th>DSP-1001660024022-D-H05.dcc</th>\n",
       "      <th>DSP-1001660024022-D-H06.dcc</th>\n",
       "      <th>DSP-1001660024022-D-H07.dcc</th>\n",
       "      <th>DSP-1001660024022-D-H08.dcc</th>\n",
       "      <th>DSP-1001660024022-D-H09.dcc</th>\n",
       "      <th>DSP-1001660024022-D-H10.dcc</th>\n",
       "      <th>DSP-1001660024022-D-H11.dcc</th>\n",
       "      <th>DSP-1001660024022-D-H12.dcc</th>\n",
       "    </tr>\n",
       "  </thead>\n",
       "  <tbody>\n",
       "    <tr>\n",
       "      <th>A2M</th>\n",
       "      <td>5.0</td>\n",
       "      <td>11.0</td>\n",
       "      <td>12.0</td>\n",
       "      <td>2.0</td>\n",
       "      <td>26.0</td>\n",
       "      <td>12.0</td>\n",
       "      <td>25.0</td>\n",
       "      <td>1.0</td>\n",
       "      <td>53.0</td>\n",
       "      <td>7.0</td>\n",
       "      <td>...</td>\n",
       "      <td>21.0</td>\n",
       "      <td>12.0</td>\n",
       "      <td>314.0</td>\n",
       "      <td>20.0</td>\n",
       "      <td>7.0</td>\n",
       "      <td>52.0</td>\n",
       "      <td>134.0</td>\n",
       "      <td>19.0</td>\n",
       "      <td>59.0</td>\n",
       "      <td>458.0</td>\n",
       "    </tr>\n",
       "    <tr>\n",
       "      <th>ACADM</th>\n",
       "      <td>1.0</td>\n",
       "      <td>4.0</td>\n",
       "      <td>12.0</td>\n",
       "      <td>1.0</td>\n",
       "      <td>12.0</td>\n",
       "      <td>1.0</td>\n",
       "      <td>11.0</td>\n",
       "      <td>2.0</td>\n",
       "      <td>10.0</td>\n",
       "      <td>2.0</td>\n",
       "      <td>...</td>\n",
       "      <td>7.0</td>\n",
       "      <td>2.0</td>\n",
       "      <td>39.0</td>\n",
       "      <td>7.0</td>\n",
       "      <td>2.0</td>\n",
       "      <td>35.0</td>\n",
       "      <td>51.0</td>\n",
       "      <td>23.0</td>\n",
       "      <td>26.0</td>\n",
       "      <td>67.0</td>\n",
       "    </tr>\n",
       "    <tr>\n",
       "      <th>ACADS</th>\n",
       "      <td>1.0</td>\n",
       "      <td>2.0</td>\n",
       "      <td>3.0</td>\n",
       "      <td>1.0</td>\n",
       "      <td>6.0</td>\n",
       "      <td>1.0</td>\n",
       "      <td>8.0</td>\n",
       "      <td>1.0</td>\n",
       "      <td>6.0</td>\n",
       "      <td>2.0</td>\n",
       "      <td>...</td>\n",
       "      <td>4.0</td>\n",
       "      <td>7.0</td>\n",
       "      <td>28.0</td>\n",
       "      <td>5.0</td>\n",
       "      <td>4.0</td>\n",
       "      <td>20.0</td>\n",
       "      <td>22.0</td>\n",
       "      <td>5.0</td>\n",
       "      <td>5.0</td>\n",
       "      <td>44.0</td>\n",
       "    </tr>\n",
       "    <tr>\n",
       "      <th>ACAT1</th>\n",
       "      <td>1.0</td>\n",
       "      <td>9.0</td>\n",
       "      <td>7.0</td>\n",
       "      <td>1.0</td>\n",
       "      <td>45.0</td>\n",
       "      <td>1.0</td>\n",
       "      <td>11.0</td>\n",
       "      <td>1.0</td>\n",
       "      <td>9.0</td>\n",
       "      <td>4.0</td>\n",
       "      <td>...</td>\n",
       "      <td>7.0</td>\n",
       "      <td>9.0</td>\n",
       "      <td>55.0</td>\n",
       "      <td>2.0</td>\n",
       "      <td>5.0</td>\n",
       "      <td>35.0</td>\n",
       "      <td>57.0</td>\n",
       "      <td>15.0</td>\n",
       "      <td>34.0</td>\n",
       "      <td>47.0</td>\n",
       "    </tr>\n",
       "    <tr>\n",
       "      <th>ACVRL1</th>\n",
       "      <td>1.0</td>\n",
       "      <td>1.0</td>\n",
       "      <td>4.0</td>\n",
       "      <td>1.0</td>\n",
       "      <td>7.0</td>\n",
       "      <td>2.0</td>\n",
       "      <td>3.0</td>\n",
       "      <td>1.0</td>\n",
       "      <td>2.0</td>\n",
       "      <td>2.0</td>\n",
       "      <td>...</td>\n",
       "      <td>6.0</td>\n",
       "      <td>1.0</td>\n",
       "      <td>11.0</td>\n",
       "      <td>8.0</td>\n",
       "      <td>1.0</td>\n",
       "      <td>21.0</td>\n",
       "      <td>29.0</td>\n",
       "      <td>7.0</td>\n",
       "      <td>14.0</td>\n",
       "      <td>42.0</td>\n",
       "    </tr>\n",
       "  </tbody>\n",
       "</table>\n",
       "<p>5 rows × 5096 columns</p>\n",
       "</div>"
      ],
      "text/plain": [
       "        DSP-1001660008694-G-A02.dcc  DSP-1001660008694-G-A03.dcc  \\\n",
       "A2M                             5.0                         11.0   \n",
       "ACADM                           1.0                          4.0   \n",
       "ACADS                           1.0                          2.0   \n",
       "ACAT1                           1.0                          9.0   \n",
       "ACVRL1                          1.0                          1.0   \n",
       "\n",
       "        DSP-1001660008694-G-A05.dcc  DSP-1001660008694-G-A06.dcc  \\\n",
       "A2M                            12.0                          2.0   \n",
       "ACADM                          12.0                          1.0   \n",
       "ACADS                           3.0                          1.0   \n",
       "ACAT1                           7.0                          1.0   \n",
       "ACVRL1                          4.0                          1.0   \n",
       "\n",
       "        DSP-1001660008694-G-A07.dcc  DSP-1001660008694-G-A08.dcc  \\\n",
       "A2M                            26.0                         12.0   \n",
       "ACADM                          12.0                          1.0   \n",
       "ACADS                           6.0                          1.0   \n",
       "ACAT1                          45.0                          1.0   \n",
       "ACVRL1                          7.0                          2.0   \n",
       "\n",
       "        DSP-1001660008694-G-A09.dcc  DSP-1001660008694-G-A10.dcc  \\\n",
       "A2M                            25.0                          1.0   \n",
       "ACADM                          11.0                          2.0   \n",
       "ACADS                           8.0                          1.0   \n",
       "ACAT1                          11.0                          1.0   \n",
       "ACVRL1                          3.0                          1.0   \n",
       "\n",
       "        DSP-1001660008694-G-A11.dcc  DSP-1001660008694-G-A12.dcc  ...  \\\n",
       "A2M                            53.0                          7.0  ...   \n",
       "ACADM                          10.0                          2.0  ...   \n",
       "ACADS                           6.0                          2.0  ...   \n",
       "ACAT1                           9.0                          4.0  ...   \n",
       "ACVRL1                          2.0                          2.0  ...   \n",
       "\n",
       "        DSP-1001660024022-D-H03.dcc  DSP-1001660024022-D-H04.dcc  \\\n",
       "A2M                            21.0                         12.0   \n",
       "ACADM                           7.0                          2.0   \n",
       "ACADS                           4.0                          7.0   \n",
       "ACAT1                           7.0                          9.0   \n",
       "ACVRL1                          6.0                          1.0   \n",
       "\n",
       "        DSP-1001660024022-D-H05.dcc  DSP-1001660024022-D-H06.dcc  \\\n",
       "A2M                           314.0                         20.0   \n",
       "ACADM                          39.0                          7.0   \n",
       "ACADS                          28.0                          5.0   \n",
       "ACAT1                          55.0                          2.0   \n",
       "ACVRL1                         11.0                          8.0   \n",
       "\n",
       "        DSP-1001660024022-D-H07.dcc  DSP-1001660024022-D-H08.dcc  \\\n",
       "A2M                             7.0                         52.0   \n",
       "ACADM                           2.0                         35.0   \n",
       "ACADS                           4.0                         20.0   \n",
       "ACAT1                           5.0                         35.0   \n",
       "ACVRL1                          1.0                         21.0   \n",
       "\n",
       "        DSP-1001660024022-D-H09.dcc  DSP-1001660024022-D-H10.dcc  \\\n",
       "A2M                           134.0                         19.0   \n",
       "ACADM                          51.0                         23.0   \n",
       "ACADS                          22.0                          5.0   \n",
       "ACAT1                          57.0                         15.0   \n",
       "ACVRL1                         29.0                          7.0   \n",
       "\n",
       "        DSP-1001660024022-D-H11.dcc  DSP-1001660024022-D-H12.dcc  \n",
       "A2M                            59.0                        458.0  \n",
       "ACADM                          26.0                         67.0  \n",
       "ACADS                           5.0                         44.0  \n",
       "ACAT1                          34.0                         47.0  \n",
       "ACVRL1                         14.0                         42.0  \n",
       "\n",
       "[5 rows x 5096 columns]"
      ]
     },
     "execution_count": 12,
     "metadata": {},
     "output_type": "execute_result"
    }
   ],
   "source": [
    "expression_matrix.head()"
   ]
  },
  {
   "cell_type": "code",
   "execution_count": 13,
   "metadata": {},
   "outputs": [
    {
     "data": {
      "text/plain": [
       "Index(['DSP-1001660008694-G-A02.dcc', 'DSP-1001660008694-G-A03.dcc',\n",
       "       'DSP-1001660008694-G-A05.dcc', 'DSP-1001660008694-G-A06.dcc',\n",
       "       'DSP-1001660008694-G-A07.dcc', 'DSP-1001660008694-G-A08.dcc',\n",
       "       'DSP-1001660008694-G-A09.dcc', 'DSP-1001660008694-G-A10.dcc',\n",
       "       'DSP-1001660008694-G-A11.dcc', 'DSP-1001660008694-G-A12.dcc',\n",
       "       ...\n",
       "       'DSP-1001660024022-D-H03.dcc', 'DSP-1001660024022-D-H04.dcc',\n",
       "       'DSP-1001660024022-D-H05.dcc', 'DSP-1001660024022-D-H06.dcc',\n",
       "       'DSP-1001660024022-D-H07.dcc', 'DSP-1001660024022-D-H08.dcc',\n",
       "       'DSP-1001660024022-D-H09.dcc', 'DSP-1001660024022-D-H10.dcc',\n",
       "       'DSP-1001660024022-D-H11.dcc', 'DSP-1001660024022-D-H12.dcc'],\n",
       "      dtype='object', length=5096)"
      ]
     },
     "execution_count": 13,
     "metadata": {},
     "output_type": "execute_result"
    }
   ],
   "source": [
    "# Replace '.' with '-' in column names\n",
    "expression_matrix.columns = expression_matrix.columns.str.replace('.', '-', regex=False)\n",
    "expression_matrix.columns = expression_matrix.columns.str.replace('-dcc', '.dcc', regex=False)\n",
    "expression_matrix.columns\n",
    "# Ensure data is in a usable format\n",
    "#print(expression_matrix.head())  # Check expression matrix\n",
    "#expression_matrix.columns"
   ]
  },
  {
   "cell_type": "markdown",
   "metadata": {},
   "source": [
    "## Only use data where we have both the gene expression and the metadata"
   ]
  },
  {
   "cell_type": "markdown",
   "metadata": {},
   "source": [
    "keep only rows that are not pellets"
   ]
  },
  {
   "cell_type": "code",
   "execution_count": 14,
   "metadata": {},
   "outputs": [],
   "source": [
    "sample_metadata = sample_metadata[sample_metadata['Sample_Type'] != 'PELLET']"
   ]
  },
  {
   "cell_type": "code",
   "execution_count": 15,
   "metadata": {},
   "outputs": [
    {
     "data": {
      "text/plain": [
       "4963"
      ]
     },
     "execution_count": 15,
     "metadata": {},
     "output_type": "execute_result"
    }
   ],
   "source": [
    "rois_to_use = list(set(sample_metadata.index).intersection(set(expression_matrix.columns)))\n",
    "len(rois_to_use)"
   ]
  },
  {
   "cell_type": "code",
   "execution_count": 16,
   "metadata": {},
   "outputs": [],
   "source": [
    "sample_metadata = sample_metadata.loc[rois_to_use]\n",
    "expression_matrix = expression_matrix[rois_to_use]"
   ]
  },
  {
   "cell_type": "code",
   "execution_count": 17,
   "metadata": {},
   "outputs": [
    {
     "data": {
      "text/plain": [
       "(4963, 70)"
      ]
     },
     "execution_count": 17,
     "metadata": {},
     "output_type": "execute_result"
    }
   ],
   "source": [
    "sample_metadata.shape"
   ]
  },
  {
   "cell_type": "markdown",
   "metadata": {},
   "source": [
    "# Identify hold out test set\n",
    "need to group by patient"
   ]
  },
  {
   "cell_type": "markdown",
   "metadata": {},
   "source": [
    "\n",
    "All segments from a patient must go into either train or test.\n",
    "\n",
    "The test set must contain:\n",
    "\n",
    "At least one CD45+ and one PanCK+ in Segment\n",
    "\n",
    "At least one RESECTION and one DIAGNOSTIC in Sample_Type\n",
    "\n"
   ]
  },
  {
   "cell_type": "code",
   "execution_count": 18,
   "metadata": {},
   "outputs": [
    {
     "data": {
      "text/html": [
       "<div>\n",
       "<style scoped>\n",
       "    .dataframe tbody tr th:only-of-type {\n",
       "        vertical-align: middle;\n",
       "    }\n",
       "\n",
       "    .dataframe tbody tr th {\n",
       "        vertical-align: top;\n",
       "    }\n",
       "\n",
       "    .dataframe thead th {\n",
       "        text-align: right;\n",
       "    }\n",
       "</style>\n",
       "<table border=\"1\" class=\"dataframe\">\n",
       "  <thead>\n",
       "    <tr style=\"text-align: right;\">\n",
       "      <th>Segment</th>\n",
       "      <th>CD45+</th>\n",
       "      <th>Full ROI</th>\n",
       "      <th>PanCK+</th>\n",
       "      <th>PanCK-</th>\n",
       "      <th>PanCK-/CD45-</th>\n",
       "      <th>TLS</th>\n",
       "    </tr>\n",
       "    <tr>\n",
       "      <th>Patient_ID</th>\n",
       "      <th></th>\n",
       "      <th></th>\n",
       "      <th></th>\n",
       "      <th></th>\n",
       "      <th></th>\n",
       "      <th></th>\n",
       "    </tr>\n",
       "  </thead>\n",
       "  <tbody>\n",
       "    <tr>\n",
       "      <th>GST15102</th>\n",
       "      <td>2</td>\n",
       "      <td>0</td>\n",
       "      <td>2</td>\n",
       "      <td>0</td>\n",
       "      <td>3</td>\n",
       "      <td>0</td>\n",
       "    </tr>\n",
       "    <tr>\n",
       "      <th>GST17605</th>\n",
       "      <td>5</td>\n",
       "      <td>0</td>\n",
       "      <td>5</td>\n",
       "      <td>0</td>\n",
       "      <td>0</td>\n",
       "      <td>0</td>\n",
       "    </tr>\n",
       "    <tr>\n",
       "      <th>GST17723</th>\n",
       "      <td>7</td>\n",
       "      <td>0</td>\n",
       "      <td>7</td>\n",
       "      <td>0</td>\n",
       "      <td>5</td>\n",
       "      <td>0</td>\n",
       "    </tr>\n",
       "    <tr>\n",
       "      <th>GST18770</th>\n",
       "      <td>4</td>\n",
       "      <td>0</td>\n",
       "      <td>4</td>\n",
       "      <td>0</td>\n",
       "      <td>0</td>\n",
       "      <td>0</td>\n",
       "    </tr>\n",
       "    <tr>\n",
       "      <th>GST18928</th>\n",
       "      <td>5</td>\n",
       "      <td>0</td>\n",
       "      <td>5</td>\n",
       "      <td>0</td>\n",
       "      <td>0</td>\n",
       "      <td>0</td>\n",
       "    </tr>\n",
       "    <tr>\n",
       "      <th>...</th>\n",
       "      <td>...</td>\n",
       "      <td>...</td>\n",
       "      <td>...</td>\n",
       "      <td>...</td>\n",
       "      <td>...</td>\n",
       "      <td>...</td>\n",
       "    </tr>\n",
       "    <tr>\n",
       "      <th>GST48495</th>\n",
       "      <td>46</td>\n",
       "      <td>0</td>\n",
       "      <td>117</td>\n",
       "      <td>26</td>\n",
       "      <td>0</td>\n",
       "      <td>0</td>\n",
       "    </tr>\n",
       "    <tr>\n",
       "      <th>GST48581</th>\n",
       "      <td>23</td>\n",
       "      <td>0</td>\n",
       "      <td>21</td>\n",
       "      <td>0</td>\n",
       "      <td>0</td>\n",
       "      <td>0</td>\n",
       "    </tr>\n",
       "    <tr>\n",
       "      <th>GST48631</th>\n",
       "      <td>0</td>\n",
       "      <td>0</td>\n",
       "      <td>19</td>\n",
       "      <td>0</td>\n",
       "      <td>0</td>\n",
       "      <td>0</td>\n",
       "    </tr>\n",
       "    <tr>\n",
       "      <th>GST48798</th>\n",
       "      <td>16</td>\n",
       "      <td>0</td>\n",
       "      <td>14</td>\n",
       "      <td>0</td>\n",
       "      <td>0</td>\n",
       "      <td>0</td>\n",
       "    </tr>\n",
       "    <tr>\n",
       "      <th>GST49284</th>\n",
       "      <td>53</td>\n",
       "      <td>0</td>\n",
       "      <td>52</td>\n",
       "      <td>0</td>\n",
       "      <td>0</td>\n",
       "      <td>0</td>\n",
       "    </tr>\n",
       "  </tbody>\n",
       "</table>\n",
       "<p>89 rows × 6 columns</p>\n",
       "</div>"
      ],
      "text/plain": [
       "Segment     CD45+  Full ROI  PanCK+  PanCK-  PanCK-/CD45-  TLS\n",
       "Patient_ID                                                    \n",
       "GST15102        2         0       2       0             3    0\n",
       "GST17605        5         0       5       0             0    0\n",
       "GST17723        7         0       7       0             5    0\n",
       "GST18770        4         0       4       0             0    0\n",
       "GST18928        5         0       5       0             0    0\n",
       "...           ...       ...     ...     ...           ...  ...\n",
       "GST48495       46         0     117      26             0    0\n",
       "GST48581       23         0      21       0             0    0\n",
       "GST48631        0         0      19       0             0    0\n",
       "GST48798       16         0      14       0             0    0\n",
       "GST49284       53         0      52       0             0    0\n",
       "\n",
       "[89 rows x 6 columns]"
      ]
     },
     "execution_count": 18,
     "metadata": {},
     "output_type": "execute_result"
    }
   ],
   "source": [
    "patient_segment_counts = sample_metadata.groupby(['Patient_ID', 'Segment']).size().unstack(fill_value=0)\n",
    "patient_segment_counts"
   ]
  },
  {
   "cell_type": "code",
   "execution_count": 19,
   "metadata": {},
   "outputs": [
    {
     "data": {
      "text/html": [
       "<div>\n",
       "<style scoped>\n",
       "    .dataframe tbody tr th:only-of-type {\n",
       "        vertical-align: middle;\n",
       "    }\n",
       "\n",
       "    .dataframe tbody tr th {\n",
       "        vertical-align: top;\n",
       "    }\n",
       "\n",
       "    .dataframe thead th {\n",
       "        text-align: right;\n",
       "    }\n",
       "</style>\n",
       "<table border=\"1\" class=\"dataframe\">\n",
       "  <thead>\n",
       "    <tr style=\"text-align: right;\">\n",
       "      <th>Segment</th>\n",
       "      <th>CD45+</th>\n",
       "      <th>Full ROI</th>\n",
       "      <th>PanCK+</th>\n",
       "      <th>PanCK-</th>\n",
       "      <th>PanCK-/CD45-</th>\n",
       "      <th>TLS</th>\n",
       "    </tr>\n",
       "    <tr>\n",
       "      <th>Patient_ID</th>\n",
       "      <th></th>\n",
       "      <th></th>\n",
       "      <th></th>\n",
       "      <th></th>\n",
       "      <th></th>\n",
       "      <th></th>\n",
       "    </tr>\n",
       "  </thead>\n",
       "  <tbody>\n",
       "  </tbody>\n",
       "</table>\n",
       "</div>"
      ],
      "text/plain": [
       "Empty DataFrame\n",
       "Columns: [CD45+, Full ROI, PanCK+, PanCK-, PanCK-/CD45-, TLS]\n",
       "Index: []"
      ]
     },
     "execution_count": 19,
     "metadata": {},
     "output_type": "execute_result"
    }
   ],
   "source": [
    "patient_segment_counts[(patient_segment_counts['CD45+'] == 0) & \n",
    "                                         (patient_segment_counts['PanCK+'] == 0)]"
   ]
  },
  {
   "cell_type": "code",
   "execution_count": 20,
   "metadata": {},
   "outputs": [
    {
     "data": {
      "text/html": [
       "<div>\n",
       "<style scoped>\n",
       "    .dataframe tbody tr th:only-of-type {\n",
       "        vertical-align: middle;\n",
       "    }\n",
       "\n",
       "    .dataframe tbody tr th {\n",
       "        vertical-align: top;\n",
       "    }\n",
       "\n",
       "    .dataframe thead th {\n",
       "        text-align: right;\n",
       "    }\n",
       "</style>\n",
       "<table border=\"1\" class=\"dataframe\">\n",
       "  <thead>\n",
       "    <tr style=\"text-align: right;\">\n",
       "      <th></th>\n",
       "      <th>Segment</th>\n",
       "      <th>Sample_Type</th>\n",
       "    </tr>\n",
       "    <tr>\n",
       "      <th>Patient_ID</th>\n",
       "      <th></th>\n",
       "      <th></th>\n",
       "    </tr>\n",
       "  </thead>\n",
       "  <tbody>\n",
       "    <tr>\n",
       "      <th>GST15102</th>\n",
       "      <td>{PanCK-/CD45-, CD45+, PanCK+}</td>\n",
       "      <td>{RESECTION}</td>\n",
       "    </tr>\n",
       "    <tr>\n",
       "      <th>GST17605</th>\n",
       "      <td>{PanCK+, CD45+}</td>\n",
       "      <td>{RESECTION}</td>\n",
       "    </tr>\n",
       "    <tr>\n",
       "      <th>GST17723</th>\n",
       "      <td>{PanCK-/CD45-, CD45+, PanCK+}</td>\n",
       "      <td>{RESECTION}</td>\n",
       "    </tr>\n",
       "    <tr>\n",
       "      <th>GST18770</th>\n",
       "      <td>{PanCK+, CD45+}</td>\n",
       "      <td>{RESECTION}</td>\n",
       "    </tr>\n",
       "    <tr>\n",
       "      <th>GST18928</th>\n",
       "      <td>{PanCK+, CD45+}</td>\n",
       "      <td>{RESECTION}</td>\n",
       "    </tr>\n",
       "    <tr>\n",
       "      <th>...</th>\n",
       "      <td>...</td>\n",
       "      <td>...</td>\n",
       "    </tr>\n",
       "    <tr>\n",
       "      <th>GST48495</th>\n",
       "      <td>{PanCK+, PanCK-, CD45+}</td>\n",
       "      <td>{RESECTION, DIAGNOSTIC}</td>\n",
       "    </tr>\n",
       "    <tr>\n",
       "      <th>GST48581</th>\n",
       "      <td>{PanCK+, CD45+}</td>\n",
       "      <td>{DIAGNOSTIC}</td>\n",
       "    </tr>\n",
       "    <tr>\n",
       "      <th>GST48631</th>\n",
       "      <td>{PanCK+}</td>\n",
       "      <td>{RESECTION, DIAGNOSTIC}</td>\n",
       "    </tr>\n",
       "    <tr>\n",
       "      <th>GST48798</th>\n",
       "      <td>{PanCK+, CD45+}</td>\n",
       "      <td>{1_1, Pre-NACT}</td>\n",
       "    </tr>\n",
       "    <tr>\n",
       "      <th>GST49284</th>\n",
       "      <td>{PanCK+, CD45+}</td>\n",
       "      <td>{DIAGNOSTIC}</td>\n",
       "    </tr>\n",
       "  </tbody>\n",
       "</table>\n",
       "<p>89 rows × 2 columns</p>\n",
       "</div>"
      ],
      "text/plain": [
       "                                  Segment              Sample_Type\n",
       "Patient_ID                                                        \n",
       "GST15102    {PanCK-/CD45-, CD45+, PanCK+}              {RESECTION}\n",
       "GST17605                  {PanCK+, CD45+}              {RESECTION}\n",
       "GST17723    {PanCK-/CD45-, CD45+, PanCK+}              {RESECTION}\n",
       "GST18770                  {PanCK+, CD45+}              {RESECTION}\n",
       "GST18928                  {PanCK+, CD45+}              {RESECTION}\n",
       "...                                   ...                      ...\n",
       "GST48495          {PanCK+, PanCK-, CD45+}  {RESECTION, DIAGNOSTIC}\n",
       "GST48581                  {PanCK+, CD45+}             {DIAGNOSTIC}\n",
       "GST48631                         {PanCK+}  {RESECTION, DIAGNOSTIC}\n",
       "GST48798                  {PanCK+, CD45+}          {1_1, Pre-NACT}\n",
       "GST49284                  {PanCK+, CD45+}             {DIAGNOSTIC}\n",
       "\n",
       "[89 rows x 2 columns]"
      ]
     },
     "execution_count": 20,
     "metadata": {},
     "output_type": "execute_result"
    }
   ],
   "source": [
    "patient_summary = sample_metadata.groupby('Patient_ID').agg({\n",
    "    'Segment': lambda x: set(x),\n",
    "    'Sample_Type': lambda x: set(x)\n",
    "})\n",
    "patient_summary"
   ]
  },
  {
   "cell_type": "code",
   "execution_count": null,
   "metadata": {},
   "outputs": [],
   "source": [
    "# Step 1: Get unique Patient_IDs\n",
    "unique_patients = sample_metadata['Patient_ID'].unique()\n",
    "\n",
    "# Step 2: Randomly sample 10% of patients\n",
    "np.random.seed(42)\n",
    "sampled_patients = np.random.choice(unique_patients,\n",
    "                                     size=int(0.1 * len(unique_patients)),\n",
    "                                     replace=False)\n",
    "\n"
   ]
  },
  {
   "cell_type": "code",
   "execution_count": 41,
   "metadata": {},
   "outputs": [],
   "source": [
    "# Step 3: Get all rows for those patients\n",
    "train_metadata = sample_metadata[ ~sample_metadata['Patient_ID'].isin(sampled_patients)] #note this is the negation of isin\n",
    "test_metadata = sample_metadata[sample_metadata['Patient_ID'].isin(sampled_patients)]"
   ]
  },
  {
   "cell_type": "markdown",
   "metadata": {},
   "source": [
    "check we have totally separated test and train"
   ]
  },
  {
   "cell_type": "code",
   "execution_count": 46,
   "metadata": {},
   "outputs": [
    {
     "data": {
      "text/plain": [
       "True"
      ]
     },
     "execution_count": 46,
     "metadata": {},
     "output_type": "execute_result"
    }
   ],
   "source": [
    "(train_metadata.shape[0] + test_metadata.shape[0]) == sample_metadata.shape[0]"
   ]
  },
  {
   "cell_type": "code",
   "execution_count": 49,
   "metadata": {},
   "outputs": [],
   "source": [
    "rois_train = list(set(train_metadata.index))\n",
    "rois_test = list(set(test_metadata.index))"
   ]
  },
  {
   "cell_type": "code",
   "execution_count": 54,
   "metadata": {},
   "outputs": [
    {
     "data": {
      "text/plain": [
       "True"
      ]
     },
     "execution_count": 54,
     "metadata": {},
     "output_type": "execute_result"
    }
   ],
   "source": [
    "(len(rois_test)+len(rois_train))==len(rois_to_use)"
   ]
  },
  {
   "cell_type": "code",
   "execution_count": 56,
   "metadata": {},
   "outputs": [],
   "source": [
    "expression_train = expression_matrix[rois_train]\n",
    "expression_test = expression_matrix[rois_test]"
   ]
  },
  {
   "cell_type": "code",
   "execution_count": 55,
   "metadata": {},
   "outputs": [
    {
     "name": "stdout",
     "output_type": "stream",
     "text": [
      "Original Sample_Type proportions:\n",
      "Sample_Type\n",
      "DIAGNOSTIC    0.812009\n",
      "RESECTION     0.158775\n",
      "Pre-NACT      0.015515\n",
      "1_1           0.010478\n",
      "2_2           0.003224\n",
      "Name: proportion, dtype: float64\n",
      "\n",
      "Sampled Sample_Type proportions:\n",
      "Sample_Type\n",
      "DIAGNOSTIC    0.821285\n",
      "RESECTION     0.146363\n",
      "Pre-NACT      0.017180\n",
      "1_1           0.011602\n",
      "2_2           0.003570\n",
      "Name: proportion, dtype: float64\n",
      "\n",
      "Sampled Sample_Type proportions:\n",
      "Sample_Type\n",
      "DIAGNOSTIC    0.725572\n",
      "RESECTION     0.274428\n",
      "Name: proportion, dtype: float64\n"
     ]
    }
   ],
   "source": [
    "print(\"Original Sample_Type proportions:\")\n",
    "print(sample_metadata['Sample_Type'].value_counts(normalize=True))\n",
    "\n",
    "print(\"\\nSampled Sample_Type proportions:\")\n",
    "print(train_metadata['Sample_Type'].value_counts(normalize=True))\n",
    "print(\"\\nSampled Sample_Type proportions:\")\n",
    "print(test_metadata['Sample_Type'].value_counts(normalize=True))"
   ]
  },
  {
   "cell_type": "code",
   "execution_count": 57,
   "metadata": {},
   "outputs": [
    {
     "data": {
      "text/plain": [
       "(18460, 481)"
      ]
     },
     "execution_count": 57,
     "metadata": {},
     "output_type": "execute_result"
    }
   ],
   "source": [
    "expression_test.shape"
   ]
  },
  {
   "cell_type": "code",
   "execution_count": 58,
   "metadata": {},
   "outputs": [
    {
     "data": {
      "text/plain": [
       "(481, 70)"
      ]
     },
     "execution_count": 58,
     "metadata": {},
     "output_type": "execute_result"
    }
   ],
   "source": [
    "test_metadata.shape"
   ]
  },
  {
   "cell_type": "markdown",
   "metadata": {},
   "source": [
    "# Signature Score"
   ]
  },
  {
   "cell_type": "markdown",
   "metadata": {},
   "source": [
    "The signature scores are for PanCK segments only"
   ]
  },
  {
   "cell_type": "code",
   "execution_count": 25,
   "metadata": {},
   "outputs": [
    {
     "data": {
      "text/html": [
       "<div>\n",
       "<style scoped>\n",
       "    .dataframe tbody tr th:only-of-type {\n",
       "        vertical-align: middle;\n",
       "    }\n",
       "\n",
       "    .dataframe tbody tr th {\n",
       "        vertical-align: top;\n",
       "    }\n",
       "\n",
       "    .dataframe thead th {\n",
       "        text-align: right;\n",
       "    }\n",
       "</style>\n",
       "<table border=\"1\" class=\"dataframe\">\n",
       "  <thead>\n",
       "    <tr style=\"text-align: right;\">\n",
       "      <th></th>\n",
       "      <th>EMT_Miow_Epithelial</th>\n",
       "      <th>EMT_Miow_Mesenchymal</th>\n",
       "      <th>EMT_Mak</th>\n",
       "      <th>EMT_Cheng</th>\n",
       "      <th>Pyroptosis_Ye</th>\n",
       "      <th>Ferroptosis_Ye</th>\n",
       "      <th>LipidMetabolism_Zheng</th>\n",
       "      <th>Hypoxia_Buffa</th>\n",
       "      <th>IPS_Charoentong_MHC</th>\n",
       "      <th>IPS_Charoentong_CP</th>\n",
       "      <th>...</th>\n",
       "      <th>ECM_Chakravarthy_down</th>\n",
       "      <th>HRDS_Lu</th>\n",
       "      <th>VEGF_Hu</th>\n",
       "      <th>LRRC15CAF_Dominguez</th>\n",
       "      <th>ICBResponse_Chen_responder</th>\n",
       "      <th>ICBResponse_Chen_nonresponder</th>\n",
       "      <th>BreastState_Wu_Basal</th>\n",
       "      <th>BreastState_Wu_Her2E</th>\n",
       "      <th>BreastState_Wu_LumA</th>\n",
       "      <th>BreastState_Wu_LumB</th>\n",
       "    </tr>\n",
       "  </thead>\n",
       "  <tbody>\n",
       "    <tr>\n",
       "      <th>DSP-1001660008694-G-A07.dcc</th>\n",
       "      <td>-1.016896</td>\n",
       "      <td>0.646749</td>\n",
       "      <td>-1.311983</td>\n",
       "      <td>-1.238825</td>\n",
       "      <td>0.862967</td>\n",
       "      <td>0.531420</td>\n",
       "      <td>2.074673</td>\n",
       "      <td>1.105722</td>\n",
       "      <td>-1.728959</td>\n",
       "      <td>0.354099</td>\n",
       "      <td>...</td>\n",
       "      <td>-1.133261</td>\n",
       "      <td>1.435874</td>\n",
       "      <td>1.183403</td>\n",
       "      <td>-1.397861</td>\n",
       "      <td>-1.196211</td>\n",
       "      <td>0.910331</td>\n",
       "      <td>0.571354</td>\n",
       "      <td>-1.719320</td>\n",
       "      <td>-0.388388</td>\n",
       "      <td>-1.230769</td>\n",
       "    </tr>\n",
       "    <tr>\n",
       "      <th>DSP-1001660008694-G-A09.dcc</th>\n",
       "      <td>-0.984435</td>\n",
       "      <td>-0.379346</td>\n",
       "      <td>1.420660</td>\n",
       "      <td>1.254408</td>\n",
       "      <td>1.302024</td>\n",
       "      <td>0.244835</td>\n",
       "      <td>-2.194416</td>\n",
       "      <td>-1.978670</td>\n",
       "      <td>0.067006</td>\n",
       "      <td>0.022225</td>\n",
       "      <td>...</td>\n",
       "      <td>1.975692</td>\n",
       "      <td>-1.158890</td>\n",
       "      <td>-0.978927</td>\n",
       "      <td>-0.092230</td>\n",
       "      <td>0.385807</td>\n",
       "      <td>-2.612812</td>\n",
       "      <td>-0.972404</td>\n",
       "      <td>-0.812911</td>\n",
       "      <td>0.622242</td>\n",
       "      <td>1.261290</td>\n",
       "    </tr>\n",
       "    <tr>\n",
       "      <th>DSP-1001660008694-G-A11.dcc</th>\n",
       "      <td>-0.217836</td>\n",
       "      <td>-0.252731</td>\n",
       "      <td>0.011755</td>\n",
       "      <td>-0.018446</td>\n",
       "      <td>1.290781</td>\n",
       "      <td>-0.711057</td>\n",
       "      <td>0.185236</td>\n",
       "      <td>-0.681088</td>\n",
       "      <td>-0.783328</td>\n",
       "      <td>-0.767688</td>\n",
       "      <td>...</td>\n",
       "      <td>1.549937</td>\n",
       "      <td>-1.416203</td>\n",
       "      <td>-0.297675</td>\n",
       "      <td>-0.575398</td>\n",
       "      <td>0.257179</td>\n",
       "      <td>-1.695098</td>\n",
       "      <td>0.217885</td>\n",
       "      <td>-2.245142</td>\n",
       "      <td>-0.398401</td>\n",
       "      <td>-1.982081</td>\n",
       "    </tr>\n",
       "    <tr>\n",
       "      <th>DSP-1001660008694-G-B01.dcc</th>\n",
       "      <td>0.035143</td>\n",
       "      <td>-1.483572</td>\n",
       "      <td>0.167068</td>\n",
       "      <td>-0.293014</td>\n",
       "      <td>0.832096</td>\n",
       "      <td>0.153249</td>\n",
       "      <td>1.385377</td>\n",
       "      <td>-2.450660</td>\n",
       "      <td>-0.462663</td>\n",
       "      <td>0.388537</td>\n",
       "      <td>...</td>\n",
       "      <td>1.962419</td>\n",
       "      <td>-1.392234</td>\n",
       "      <td>-1.534590</td>\n",
       "      <td>-0.258684</td>\n",
       "      <td>0.308090</td>\n",
       "      <td>-2.790169</td>\n",
       "      <td>0.200933</td>\n",
       "      <td>-1.115613</td>\n",
       "      <td>-0.521340</td>\n",
       "      <td>-1.240963</td>\n",
       "    </tr>\n",
       "    <tr>\n",
       "      <th>DSP-1001660008694-G-B05.dcc</th>\n",
       "      <td>-0.411838</td>\n",
       "      <td>-1.407967</td>\n",
       "      <td>1.067610</td>\n",
       "      <td>0.319949</td>\n",
       "      <td>2.119825</td>\n",
       "      <td>-3.338973</td>\n",
       "      <td>-1.206909</td>\n",
       "      <td>-1.645790</td>\n",
       "      <td>-0.884179</td>\n",
       "      <td>0.239768</td>\n",
       "      <td>...</td>\n",
       "      <td>1.974837</td>\n",
       "      <td>-0.570433</td>\n",
       "      <td>-0.880439</td>\n",
       "      <td>-0.366735</td>\n",
       "      <td>0.294521</td>\n",
       "      <td>-2.434542</td>\n",
       "      <td>-0.323462</td>\n",
       "      <td>-1.549168</td>\n",
       "      <td>-0.504941</td>\n",
       "      <td>-1.194458</td>\n",
       "    </tr>\n",
       "  </tbody>\n",
       "</table>\n",
       "<p>5 rows × 32 columns</p>\n",
       "</div>"
      ],
      "text/plain": [
       "                             EMT_Miow_Epithelial  EMT_Miow_Mesenchymal  \\\n",
       "DSP-1001660008694-G-A07.dcc            -1.016896              0.646749   \n",
       "DSP-1001660008694-G-A09.dcc            -0.984435             -0.379346   \n",
       "DSP-1001660008694-G-A11.dcc            -0.217836             -0.252731   \n",
       "DSP-1001660008694-G-B01.dcc             0.035143             -1.483572   \n",
       "DSP-1001660008694-G-B05.dcc            -0.411838             -1.407967   \n",
       "\n",
       "                              EMT_Mak  EMT_Cheng  Pyroptosis_Ye  \\\n",
       "DSP-1001660008694-G-A07.dcc -1.311983  -1.238825       0.862967   \n",
       "DSP-1001660008694-G-A09.dcc  1.420660   1.254408       1.302024   \n",
       "DSP-1001660008694-G-A11.dcc  0.011755  -0.018446       1.290781   \n",
       "DSP-1001660008694-G-B01.dcc  0.167068  -0.293014       0.832096   \n",
       "DSP-1001660008694-G-B05.dcc  1.067610   0.319949       2.119825   \n",
       "\n",
       "                             Ferroptosis_Ye  LipidMetabolism_Zheng  \\\n",
       "DSP-1001660008694-G-A07.dcc        0.531420               2.074673   \n",
       "DSP-1001660008694-G-A09.dcc        0.244835              -2.194416   \n",
       "DSP-1001660008694-G-A11.dcc       -0.711057               0.185236   \n",
       "DSP-1001660008694-G-B01.dcc        0.153249               1.385377   \n",
       "DSP-1001660008694-G-B05.dcc       -3.338973              -1.206909   \n",
       "\n",
       "                             Hypoxia_Buffa  IPS_Charoentong_MHC  \\\n",
       "DSP-1001660008694-G-A07.dcc       1.105722            -1.728959   \n",
       "DSP-1001660008694-G-A09.dcc      -1.978670             0.067006   \n",
       "DSP-1001660008694-G-A11.dcc      -0.681088            -0.783328   \n",
       "DSP-1001660008694-G-B01.dcc      -2.450660            -0.462663   \n",
       "DSP-1001660008694-G-B05.dcc      -1.645790            -0.884179   \n",
       "\n",
       "                             IPS_Charoentong_CP  ...  ECM_Chakravarthy_down  \\\n",
       "DSP-1001660008694-G-A07.dcc            0.354099  ...              -1.133261   \n",
       "DSP-1001660008694-G-A09.dcc            0.022225  ...               1.975692   \n",
       "DSP-1001660008694-G-A11.dcc           -0.767688  ...               1.549937   \n",
       "DSP-1001660008694-G-B01.dcc            0.388537  ...               1.962419   \n",
       "DSP-1001660008694-G-B05.dcc            0.239768  ...               1.974837   \n",
       "\n",
       "                              HRDS_Lu   VEGF_Hu  LRRC15CAF_Dominguez  \\\n",
       "DSP-1001660008694-G-A07.dcc  1.435874  1.183403            -1.397861   \n",
       "DSP-1001660008694-G-A09.dcc -1.158890 -0.978927            -0.092230   \n",
       "DSP-1001660008694-G-A11.dcc -1.416203 -0.297675            -0.575398   \n",
       "DSP-1001660008694-G-B01.dcc -1.392234 -1.534590            -0.258684   \n",
       "DSP-1001660008694-G-B05.dcc -0.570433 -0.880439            -0.366735   \n",
       "\n",
       "                             ICBResponse_Chen_responder  \\\n",
       "DSP-1001660008694-G-A07.dcc                   -1.196211   \n",
       "DSP-1001660008694-G-A09.dcc                    0.385807   \n",
       "DSP-1001660008694-G-A11.dcc                    0.257179   \n",
       "DSP-1001660008694-G-B01.dcc                    0.308090   \n",
       "DSP-1001660008694-G-B05.dcc                    0.294521   \n",
       "\n",
       "                             ICBResponse_Chen_nonresponder  \\\n",
       "DSP-1001660008694-G-A07.dcc                       0.910331   \n",
       "DSP-1001660008694-G-A09.dcc                      -2.612812   \n",
       "DSP-1001660008694-G-A11.dcc                      -1.695098   \n",
       "DSP-1001660008694-G-B01.dcc                      -2.790169   \n",
       "DSP-1001660008694-G-B05.dcc                      -2.434542   \n",
       "\n",
       "                             BreastState_Wu_Basal  BreastState_Wu_Her2E  \\\n",
       "DSP-1001660008694-G-A07.dcc              0.571354             -1.719320   \n",
       "DSP-1001660008694-G-A09.dcc             -0.972404             -0.812911   \n",
       "DSP-1001660008694-G-A11.dcc              0.217885             -2.245142   \n",
       "DSP-1001660008694-G-B01.dcc              0.200933             -1.115613   \n",
       "DSP-1001660008694-G-B05.dcc             -0.323462             -1.549168   \n",
       "\n",
       "                             BreastState_Wu_LumA  BreastState_Wu_LumB  \n",
       "DSP-1001660008694-G-A07.dcc            -0.388388            -1.230769  \n",
       "DSP-1001660008694-G-A09.dcc             0.622242             1.261290  \n",
       "DSP-1001660008694-G-A11.dcc            -0.398401            -1.982081  \n",
       "DSP-1001660008694-G-B01.dcc            -0.521340            -1.240963  \n",
       "DSP-1001660008694-G-B05.dcc            -0.504941            -1.194458  \n",
       "\n",
       "[5 rows x 32 columns]"
      ]
     },
     "execution_count": 25,
     "metadata": {},
     "output_type": "execute_result"
    }
   ],
   "source": [
    "signature_scores = pd.read_csv(os.path.join(file_path,\"signature_scores.csv\"), index_col=0)\n",
    "signature_scores.head()"
   ]
  },
  {
   "cell_type": "code",
   "execution_count": 26,
   "metadata": {},
   "outputs": [
    {
     "data": {
      "text/plain": [
       "(2381, 70)"
      ]
     },
     "execution_count": 26,
     "metadata": {},
     "output_type": "execute_result"
    }
   ],
   "source": [
    "sample_metadata[sample_metadata['Segment']=='PanCK+'].shape"
   ]
  },
  {
   "cell_type": "code",
   "execution_count": 59,
   "metadata": {},
   "outputs": [
    {
     "data": {
      "text/plain": [
       "Segment\n",
       "PanCK+    2105\n",
       "Name: count, dtype: int64"
      ]
     },
     "execution_count": 59,
     "metadata": {},
     "output_type": "execute_result"
    }
   ],
   "source": [
    "rois_panck_train = list(set(signature_scores.index).intersection(set(rois_train)))\n",
    "sample_metadata.loc[rois_panck_train,'Segment'].value_counts()"
   ]
  },
  {
   "cell_type": "code",
   "execution_count": 60,
   "metadata": {},
   "outputs": [
    {
     "data": {
      "text/plain": [
       "Segment\n",
       "PanCK+    190\n",
       "Name: count, dtype: int64"
      ]
     },
     "execution_count": 60,
     "metadata": {},
     "output_type": "execute_result"
    }
   ],
   "source": [
    "rois_panck_test = list(set(signature_scores.index).intersection(set(rois_test)))\n",
    "sample_metadata.loc[rois_panck_test,'Segment'].value_counts()"
   ]
  },
  {
   "cell_type": "markdown",
   "metadata": {},
   "source": [
    "## Define relevant sig"
   ]
  },
  {
   "cell_type": "markdown",
   "metadata": {},
   "source": [
    "we are most interested in signatures that are likely to be visible in the H&E:\n",
    "\n",
    "- EMT_Miow_Mesenchymal (\tEMT strongly alters tumor architecture (spindle shape, invasion, stroma))\n",
    "- EMT_Mak (Tumor phenotype shift visible in H&E)\n",
    "- BreastState_Wu_Basal (Basal subtype has distinct H&E appearance (high-grade, mitotic, lymphocyte-rich))\n",
    "\n",
    "possibly in 40x:\n",
    "- MitoticIndex_Yang"
   ]
  },
  {
   "cell_type": "code",
   "execution_count": 34,
   "metadata": {},
   "outputs": [],
   "source": [
    "signatures_to_drop = ['EMT_Miow_Epithelial', 'EMT_Mak', 'BreastState_Wu_Basal']\n",
    "signatures_to_use = list(signature_scores.columns)"
   ]
  },
  {
   "cell_type": "code",
   "execution_count": 61,
   "metadata": {},
   "outputs": [
    {
     "data": {
      "text/html": [
       "<div>\n",
       "<style scoped>\n",
       "    .dataframe tbody tr th:only-of-type {\n",
       "        vertical-align: middle;\n",
       "    }\n",
       "\n",
       "    .dataframe tbody tr th {\n",
       "        vertical-align: top;\n",
       "    }\n",
       "\n",
       "    .dataframe thead th {\n",
       "        text-align: right;\n",
       "    }\n",
       "</style>\n",
       "<table border=\"1\" class=\"dataframe\">\n",
       "  <thead>\n",
       "    <tr style=\"text-align: right;\">\n",
       "      <th></th>\n",
       "      <th>EMT_Miow_Epithelial</th>\n",
       "      <th>EMT_Miow_Mesenchymal</th>\n",
       "      <th>EMT_Mak</th>\n",
       "      <th>EMT_Cheng</th>\n",
       "      <th>Pyroptosis_Ye</th>\n",
       "      <th>Ferroptosis_Ye</th>\n",
       "      <th>LipidMetabolism_Zheng</th>\n",
       "      <th>Hypoxia_Buffa</th>\n",
       "      <th>IPS_Charoentong_MHC</th>\n",
       "      <th>IPS_Charoentong_CP</th>\n",
       "      <th>...</th>\n",
       "      <th>ECM_Chakravarthy_down</th>\n",
       "      <th>HRDS_Lu</th>\n",
       "      <th>VEGF_Hu</th>\n",
       "      <th>LRRC15CAF_Dominguez</th>\n",
       "      <th>ICBResponse_Chen_responder</th>\n",
       "      <th>ICBResponse_Chen_nonresponder</th>\n",
       "      <th>BreastState_Wu_Basal</th>\n",
       "      <th>BreastState_Wu_Her2E</th>\n",
       "      <th>BreastState_Wu_LumA</th>\n",
       "      <th>BreastState_Wu_LumB</th>\n",
       "    </tr>\n",
       "  </thead>\n",
       "  <tbody>\n",
       "    <tr>\n",
       "      <th>DSP-1001660013337-F-D05.dcc</th>\n",
       "      <td>-0.037075</td>\n",
       "      <td>-1.539543</td>\n",
       "      <td>0.533738</td>\n",
       "      <td>1.136892</td>\n",
       "      <td>0.598017</td>\n",
       "      <td>-0.933865</td>\n",
       "      <td>1.779060</td>\n",
       "      <td>-0.187995</td>\n",
       "      <td>1.217858</td>\n",
       "      <td>-1.471147</td>\n",
       "      <td>...</td>\n",
       "      <td>1.181262</td>\n",
       "      <td>-0.170901</td>\n",
       "      <td>-0.399890</td>\n",
       "      <td>0.323763</td>\n",
       "      <td>1.953786</td>\n",
       "      <td>-0.139758</td>\n",
       "      <td>-1.270735</td>\n",
       "      <td>-1.140917</td>\n",
       "      <td>-0.155928</td>\n",
       "      <td>-1.204885</td>\n",
       "    </tr>\n",
       "    <tr>\n",
       "      <th>DSP-1001660016637-F-C12.dcc</th>\n",
       "      <td>0.502778</td>\n",
       "      <td>0.128292</td>\n",
       "      <td>0.549963</td>\n",
       "      <td>0.164653</td>\n",
       "      <td>-0.032683</td>\n",
       "      <td>0.825163</td>\n",
       "      <td>0.697274</td>\n",
       "      <td>-0.563133</td>\n",
       "      <td>1.130154</td>\n",
       "      <td>-1.390781</td>\n",
       "      <td>...</td>\n",
       "      <td>0.647057</td>\n",
       "      <td>-1.897627</td>\n",
       "      <td>-0.089000</td>\n",
       "      <td>0.610577</td>\n",
       "      <td>0.508288</td>\n",
       "      <td>0.051693</td>\n",
       "      <td>1.236115</td>\n",
       "      <td>-0.116803</td>\n",
       "      <td>0.552479</td>\n",
       "      <td>0.819742</td>\n",
       "    </tr>\n",
       "    <tr>\n",
       "      <th>DSP-1001660014543-A-A03.dcc</th>\n",
       "      <td>1.294301</td>\n",
       "      <td>0.360311</td>\n",
       "      <td>-0.296095</td>\n",
       "      <td>-0.285914</td>\n",
       "      <td>-0.002103</td>\n",
       "      <td>-0.105039</td>\n",
       "      <td>0.038289</td>\n",
       "      <td>0.392740</td>\n",
       "      <td>0.958142</td>\n",
       "      <td>-0.932847</td>\n",
       "      <td>...</td>\n",
       "      <td>-0.590415</td>\n",
       "      <td>-0.689589</td>\n",
       "      <td>0.596285</td>\n",
       "      <td>0.116053</td>\n",
       "      <td>0.845386</td>\n",
       "      <td>0.667052</td>\n",
       "      <td>0.790009</td>\n",
       "      <td>0.466264</td>\n",
       "      <td>1.230926</td>\n",
       "      <td>0.650756</td>\n",
       "    </tr>\n",
       "    <tr>\n",
       "      <th>DSP-1001660020816-A-B01.dcc</th>\n",
       "      <td>-7.526882</td>\n",
       "      <td>3.478261</td>\n",
       "      <td>2.787850</td>\n",
       "      <td>0.298336</td>\n",
       "      <td>0.970953</td>\n",
       "      <td>0.844237</td>\n",
       "      <td>0.152605</td>\n",
       "      <td>-1.235054</td>\n",
       "      <td>-1.616317</td>\n",
       "      <td>0.227988</td>\n",
       "      <td>...</td>\n",
       "      <td>-0.257314</td>\n",
       "      <td>0.678343</td>\n",
       "      <td>-1.165095</td>\n",
       "      <td>-0.061205</td>\n",
       "      <td>-0.956777</td>\n",
       "      <td>0.191610</td>\n",
       "      <td>-1.166610</td>\n",
       "      <td>0.051384</td>\n",
       "      <td>-1.321715</td>\n",
       "      <td>-1.023150</td>\n",
       "    </tr>\n",
       "    <tr>\n",
       "      <th>DSP-1001660014543-A-C06.dcc</th>\n",
       "      <td>1.189661</td>\n",
       "      <td>0.152587</td>\n",
       "      <td>-0.073640</td>\n",
       "      <td>0.112480</td>\n",
       "      <td>0.069763</td>\n",
       "      <td>0.304268</td>\n",
       "      <td>1.509196</td>\n",
       "      <td>-0.002239</td>\n",
       "      <td>1.050229</td>\n",
       "      <td>-1.119218</td>\n",
       "      <td>...</td>\n",
       "      <td>-0.606801</td>\n",
       "      <td>-0.702521</td>\n",
       "      <td>-0.425428</td>\n",
       "      <td>0.141873</td>\n",
       "      <td>0.854333</td>\n",
       "      <td>0.799765</td>\n",
       "      <td>-0.759115</td>\n",
       "      <td>-1.373594</td>\n",
       "      <td>-1.395381</td>\n",
       "      <td>-0.744240</td>\n",
       "    </tr>\n",
       "  </tbody>\n",
       "</table>\n",
       "<p>5 rows × 32 columns</p>\n",
       "</div>"
      ],
      "text/plain": [
       "                             EMT_Miow_Epithelial  EMT_Miow_Mesenchymal  \\\n",
       "DSP-1001660013337-F-D05.dcc            -0.037075             -1.539543   \n",
       "DSP-1001660016637-F-C12.dcc             0.502778              0.128292   \n",
       "DSP-1001660014543-A-A03.dcc             1.294301              0.360311   \n",
       "DSP-1001660020816-A-B01.dcc            -7.526882              3.478261   \n",
       "DSP-1001660014543-A-C06.dcc             1.189661              0.152587   \n",
       "\n",
       "                              EMT_Mak  EMT_Cheng  Pyroptosis_Ye  \\\n",
       "DSP-1001660013337-F-D05.dcc  0.533738   1.136892       0.598017   \n",
       "DSP-1001660016637-F-C12.dcc  0.549963   0.164653      -0.032683   \n",
       "DSP-1001660014543-A-A03.dcc -0.296095  -0.285914      -0.002103   \n",
       "DSP-1001660020816-A-B01.dcc  2.787850   0.298336       0.970953   \n",
       "DSP-1001660014543-A-C06.dcc -0.073640   0.112480       0.069763   \n",
       "\n",
       "                             Ferroptosis_Ye  LipidMetabolism_Zheng  \\\n",
       "DSP-1001660013337-F-D05.dcc       -0.933865               1.779060   \n",
       "DSP-1001660016637-F-C12.dcc        0.825163               0.697274   \n",
       "DSP-1001660014543-A-A03.dcc       -0.105039               0.038289   \n",
       "DSP-1001660020816-A-B01.dcc        0.844237               0.152605   \n",
       "DSP-1001660014543-A-C06.dcc        0.304268               1.509196   \n",
       "\n",
       "                             Hypoxia_Buffa  IPS_Charoentong_MHC  \\\n",
       "DSP-1001660013337-F-D05.dcc      -0.187995             1.217858   \n",
       "DSP-1001660016637-F-C12.dcc      -0.563133             1.130154   \n",
       "DSP-1001660014543-A-A03.dcc       0.392740             0.958142   \n",
       "DSP-1001660020816-A-B01.dcc      -1.235054            -1.616317   \n",
       "DSP-1001660014543-A-C06.dcc      -0.002239             1.050229   \n",
       "\n",
       "                             IPS_Charoentong_CP  ...  ECM_Chakravarthy_down  \\\n",
       "DSP-1001660013337-F-D05.dcc           -1.471147  ...               1.181262   \n",
       "DSP-1001660016637-F-C12.dcc           -1.390781  ...               0.647057   \n",
       "DSP-1001660014543-A-A03.dcc           -0.932847  ...              -0.590415   \n",
       "DSP-1001660020816-A-B01.dcc            0.227988  ...              -0.257314   \n",
       "DSP-1001660014543-A-C06.dcc           -1.119218  ...              -0.606801   \n",
       "\n",
       "                              HRDS_Lu   VEGF_Hu  LRRC15CAF_Dominguez  \\\n",
       "DSP-1001660013337-F-D05.dcc -0.170901 -0.399890             0.323763   \n",
       "DSP-1001660016637-F-C12.dcc -1.897627 -0.089000             0.610577   \n",
       "DSP-1001660014543-A-A03.dcc -0.689589  0.596285             0.116053   \n",
       "DSP-1001660020816-A-B01.dcc  0.678343 -1.165095            -0.061205   \n",
       "DSP-1001660014543-A-C06.dcc -0.702521 -0.425428             0.141873   \n",
       "\n",
       "                             ICBResponse_Chen_responder  \\\n",
       "DSP-1001660013337-F-D05.dcc                    1.953786   \n",
       "DSP-1001660016637-F-C12.dcc                    0.508288   \n",
       "DSP-1001660014543-A-A03.dcc                    0.845386   \n",
       "DSP-1001660020816-A-B01.dcc                   -0.956777   \n",
       "DSP-1001660014543-A-C06.dcc                    0.854333   \n",
       "\n",
       "                             ICBResponse_Chen_nonresponder  \\\n",
       "DSP-1001660013337-F-D05.dcc                      -0.139758   \n",
       "DSP-1001660016637-F-C12.dcc                       0.051693   \n",
       "DSP-1001660014543-A-A03.dcc                       0.667052   \n",
       "DSP-1001660020816-A-B01.dcc                       0.191610   \n",
       "DSP-1001660014543-A-C06.dcc                       0.799765   \n",
       "\n",
       "                             BreastState_Wu_Basal  BreastState_Wu_Her2E  \\\n",
       "DSP-1001660013337-F-D05.dcc             -1.270735             -1.140917   \n",
       "DSP-1001660016637-F-C12.dcc              1.236115             -0.116803   \n",
       "DSP-1001660014543-A-A03.dcc              0.790009              0.466264   \n",
       "DSP-1001660020816-A-B01.dcc             -1.166610              0.051384   \n",
       "DSP-1001660014543-A-C06.dcc             -0.759115             -1.373594   \n",
       "\n",
       "                             BreastState_Wu_LumA  BreastState_Wu_LumB  \n",
       "DSP-1001660013337-F-D05.dcc            -0.155928            -1.204885  \n",
       "DSP-1001660016637-F-C12.dcc             0.552479             0.819742  \n",
       "DSP-1001660014543-A-A03.dcc             1.230926             0.650756  \n",
       "DSP-1001660020816-A-B01.dcc            -1.321715            -1.023150  \n",
       "DSP-1001660014543-A-C06.dcc            -1.395381            -0.744240  \n",
       "\n",
       "[5 rows x 32 columns]"
      ]
     },
     "execution_count": 61,
     "metadata": {},
     "output_type": "execute_result"
    }
   ],
   "source": [
    "#sig_subset = signature_scores.loc[rois_panck,signatures_to_use]\n",
    "#sig_subset = signature_scores.loc[rois_panck,:].drop(signatures_to_drop, axis=1)\n",
    "sig_subset_train = signature_scores.loc[rois_panck_train,:]\n",
    "sig_subset_test = signature_scores.loc[rois_panck_test,:]\n",
    "sig_subset_train.head()"
   ]
  },
  {
   "cell_type": "markdown",
   "metadata": {},
   "source": [
    "save the signature scores"
   ]
  },
  {
   "cell_type": "code",
   "execution_count": 62,
   "metadata": {},
   "outputs": [],
   "source": [
    "sig_subset_train = sig_subset_train.reset_index().rename(columns={\"index\": \"ROI_ID\"})\n",
    "sig_subset_test = sig_subset_test.reset_index().rename(columns={\"index\": \"ROI_ID\"})"
   ]
  },
  {
   "cell_type": "code",
   "execution_count": 63,
   "metadata": {},
   "outputs": [],
   "source": [
    "sig_subset_train.to_csv(os.path.join(input_path,'truthlabels',f\"panck_signatures_train.csv\"), index=False)\n",
    "sig_subset_train.to_csv(os.path.join(input_path,'truthlabels',f\"panck_signatures_test.csv\"), index=False)"
   ]
  },
  {
   "cell_type": "code",
   "execution_count": null,
   "metadata": {},
   "outputs": [],
   "source": []
  },
  {
   "cell_type": "markdown",
   "metadata": {},
   "source": [
    "# Gene Expression"
   ]
  },
  {
   "cell_type": "markdown",
   "metadata": {},
   "source": [
    "<div class=\"alert alert-block alert-warning\">\n",
    "I should log1p normalise before saving\n",
    "</div>"
   ]
  },
  {
   "cell_type": "code",
   "execution_count": 94,
   "metadata": {},
   "outputs": [],
   "source": [
    "log_transformed_expr = expression_matrix.apply(np.log1p).T"
   ]
  },
  {
   "cell_type": "code",
   "execution_count": 97,
   "metadata": {},
   "outputs": [],
   "source": [
    "rois_cd45_train = list(train_metadata[train_metadata['Segment']=='CD45+'].index)\n",
    "rois_panck_train = list(train_metadata[train_metadata['Segment']=='PanCK+'].index)"
   ]
  },
  {
   "cell_type": "code",
   "execution_count": 98,
   "metadata": {},
   "outputs": [],
   "source": [
    "rois_cd45_test = list(test_metadata[test_metadata['Segment']=='CD45+'].index)\n",
    "rois_panck_test = list(test_metadata[test_metadata['Segment']=='PanCK+'].index)"
   ]
  },
  {
   "cell_type": "markdown",
   "metadata": {},
   "source": [
    "## Split Segments"
   ]
  },
  {
   "cell_type": "markdown",
   "metadata": {},
   "source": [
    "## Gene Panel"
   ]
  },
  {
   "cell_type": "markdown",
   "metadata": {},
   "source": [
    "Focus on spatially informative genes such as GATA3, KRT5, CD68, or ESR1\n",
    "Triple-Negative (TNBC)\tEGFR, KRT5, KRT17, TP63\n",
    "Proliferation\tMKI67, TOP2A, BIRC5 (Survivin)\n"
   ]
  },
  {
   "cell_type": "markdown",
   "metadata": {},
   "source": [
    "### Split PanCK (epithelial) from CD45 (immune)"
   ]
  },
  {
   "cell_type": "markdown",
   "metadata": {},
   "source": [
    "CD45 gene panel:\n",
    "CD3D, CD8A, CD4, FOXP3, CD68, CD163\n",
    "\n",
    "PanCK gene panel:\n",
    "KRT5, KRT14, TP63, MKI67, VIM, MMP9, ACTA2"
   ]
  },
  {
   "cell_type": "code",
   "execution_count": 79,
   "metadata": {},
   "outputs": [
    {
     "data": {
      "text/plain": [
       "True"
      ]
     },
     "execution_count": 79,
     "metadata": {},
     "output_type": "execute_result"
    }
   ],
   "source": [
    "'CD274' in list(expression_matrix.index)"
   ]
  },
  {
   "cell_type": "markdown",
   "metadata": {},
   "source": [
    "CD274 = PD-L1"
   ]
  },
  {
   "cell_type": "code",
   "execution_count": 99,
   "metadata": {},
   "outputs": [],
   "source": [
    "gene_panel_cd45 = ['CD274','CXCL9','IFNG','BCL2','CD3D', 'CD8A', 'CD4', 'FOXP3', 'CD68', 'CD163','IDO1', 'LAG3', 'STAT1', 'S100A9']\n",
    "gene_panel_panck = ['BRCA1','BRCA2', 'TP53', 'PIK3CA','MYC','EGFR', 'AR', 'PTEN', 'RB1', 'CD274','BCL2','KRT5', 'KRT14', 'TP63', 'MKI67', 'VIM', 'MMP9','SOX10', 'ALDH1A1', 'CD44', 'ZEB1', 'SNAI1', 'CCNB1']"
   ]
  },
  {
   "cell_type": "code",
   "execution_count": 100,
   "metadata": {},
   "outputs": [],
   "source": [
    "panel_df_panck = log_transformed_expr.loc[rois_panck_train,gene_panel_panck].reset_index().rename(columns={\"index\": \"ROI_ID\"})\n",
    "panel_df_cd45 = log_transformed_expr.loc[rois_cd45_train,gene_panel_cd45].reset_index().rename(columns={\"index\": \"ROI_ID\"})"
   ]
  },
  {
   "cell_type": "code",
   "execution_count": null,
   "metadata": {},
   "outputs": [],
   "source": [
    "#panel_df_panck = expression_matrix.T.loc[rois_panck,gene_panel_panck].reset_index().rename(columns={\"index\": \"ROI_ID\"})\n",
    "#panel_df_cd45 = expression_matrix.T.loc[rois_cd45,gene_panel_cd45].reset_index().rename(columns={\"index\": \"ROI_ID\"})"
   ]
  },
  {
   "cell_type": "code",
   "execution_count": 101,
   "metadata": {},
   "outputs": [],
   "source": [
    "panel_df_panck.to_csv(os.path.join(input_path,'truthlabels',f\"gene_panel_panck_raw.csv\"), index=False)\n",
    "panel_df_cd45.to_csv(os.path.join(input_path,'truthlabels',f\"gene_panel_cd45_raw.csv\"), index=False)"
   ]
  },
  {
   "cell_type": "markdown",
   "metadata": {},
   "source": [
    "TEST SET"
   ]
  },
  {
   "cell_type": "code",
   "execution_count": null,
   "metadata": {},
   "outputs": [],
   "source": [
    "panel_df_panck = log_transformed_expr.loc[rois_panck_test,gene_panel_panck].reset_index().rename(columns={\"index\": \"ROI_ID\"})\n",
    "panel_df_cd45 = log_transformed_expr.loc[rois_cd45_test,gene_panel_cd45].reset_index().rename(columns={\"index\": \"ROI_ID\"})\n",
    "panel_df_panck.to_csv(os.path.join(input_path,'truthlabels',f\"gene_panel_panck_raw_TEST.csv\"), index=False)\n",
    "panel_df_cd45.to_csv(os.path.join(input_path,'truthlabels',f\"gene_panel_cd45_raw_TEST.csv\"), index=False)"
   ]
  },
  {
   "cell_type": "markdown",
   "metadata": {},
   "source": [
    "## HVGs"
   ]
  },
  {
   "cell_type": "code",
   "execution_count": null,
   "metadata": {},
   "outputs": [],
   "source": [
    "sample_metadata.columns"
   ]
  },
  {
   "cell_type": "code",
   "execution_count": null,
   "metadata": {},
   "outputs": [],
   "source": [
    "import scanpy as sc\n",
    "import squidpy as sq\n",
    "from anndata import AnnData"
   ]
  },
  {
   "cell_type": "code",
   "execution_count": null,
   "metadata": {},
   "outputs": [],
   "source": [
    "final_expression_matrix = expression_matrix.T.astype(float).sort_index()\n",
    "sample_metadata = sample_metadata.sort_index()"
   ]
  },
  {
   "cell_type": "code",
   "execution_count": null,
   "metadata": {},
   "outputs": [],
   "source": [
    "log_transformed_expr = final_expression_matrix.apply(np.log1p)"
   ]
  },
  {
   "cell_type": "code",
   "execution_count": null,
   "metadata": {},
   "outputs": [],
   "source": [
    "sample_metadata['ROICoordinateY']"
   ]
  },
  {
   "cell_type": "code",
   "execution_count": null,
   "metadata": {},
   "outputs": [],
   "source": [
    "# Create AnnData object\n",
    "adata = AnnData(final_expression_matrix) #expression matrix transposed\n",
    "\n",
    "adata.obsm[\"spatial\"] = sample_metadata[['ROICoordinateX', 'ROICoordinateY']].to_numpy()  #roi coords\n",
    "adata.obs[\"LEAPID\"] = sample_metadata['LEAP_ID']\n",
    "adata.obs[\"segment\"] = sample_metadata['Segment']"
   ]
  },
  {
   "cell_type": "code",
   "execution_count": null,
   "metadata": {},
   "outputs": [],
   "source": [
    "adata.X = np.nan_to_num(adata.X, nan=0.0, posinf=0.0, neginf=0.0)"
   ]
  },
  {
   "cell_type": "code",
   "execution_count": null,
   "metadata": {},
   "outputs": [],
   "source": [
    "from collections import defaultdict\n",
    "\n",
    "# Dictionary to store HVG results per segment\n",
    "hvg_results_by_segment = {}\n",
    "\n",
    "# Loop over each segment type\n",
    "for segment in ['CD45+','PanCK+']:\n",
    "    print(f\"Processing segment: {segment}\")\n",
    "    \n",
    "    # Subset AnnData\n",
    "    adata_sub = adata[adata.obs[\"segment\"] == segment].copy()\n",
    "    \n",
    "    # Filter out genes with all-zero expression (optional but good)\n",
    "    sc.pp.filter_genes(adata_sub, min_cells=1)\n",
    "    \n",
    "    # Identify highly variable genes\n",
    "    sc.pp.highly_variable_genes(\n",
    "        adata_sub,\n",
    "        flavor='cell_ranger',\n",
    "        n_top_genes=100\n",
    "    )\n",
    "    \n",
    "    # Store DataFrame of HVGs\n",
    "    hvg_df = adata_sub.var[adata_sub.var[\"highly_variable\"]].copy()\n",
    "    hvg_results_by_segment[segment] = hvg_df\n",
    "\n",
    "    print(f\"Found {hvg_df.shape[0]} highly variable genes for {segment}\")\n"
   ]
  },
  {
   "cell_type": "markdown",
   "metadata": {},
   "source": [
    "Get top 50 HVGs per segment"
   ]
  },
  {
   "cell_type": "code",
   "execution_count": null,
   "metadata": {},
   "outputs": [],
   "source": [
    "HVGs_cd45 = list(hvg_results_by_segment['CD45+'].sort_values(by='dispersions_norm', ascending=False)[:50].index)\n",
    "HVGs_cd45"
   ]
  },
  {
   "cell_type": "code",
   "execution_count": null,
   "metadata": {},
   "outputs": [],
   "source": [
    "HVGs_panck = list(hvg_results_by_segment['PanCK+'].sort_values(by='dispersions_norm', ascending=False)[:50].index)\n",
    "HVGs_panck"
   ]
  },
  {
   "cell_type": "code",
   "execution_count": null,
   "metadata": {},
   "outputs": [],
   "source": [
    "from collections import defaultdict\n",
    "\n",
    "top_n = 100\n",
    "segment_to_top_genes = {\n",
    "    segment: set(hvg_df.sort_values(\"dispersions_norm\", ascending=False).index[:top_n])\n",
    "    for segment, hvg_df in hvg_results_by_segment.items()\n",
    "}\n",
    "\n",
    "# Count how many segments each gene appears in\n",
    "from collections import Counter\n",
    "\n",
    "gene_counter = Counter()\n",
    "for genes in segment_to_top_genes.values():\n",
    "    gene_counter.update(genes)\n",
    "\n",
    "# Show most common HVGs\n",
    "print(\"Most frequently variable genes across segments:\")\n",
    "for gene, count in gene_counter.most_common(10):\n",
    "    print(f\"{gene}: {count} segments\")"
   ]
  },
  {
   "cell_type": "code",
   "execution_count": null,
   "metadata": {},
   "outputs": [],
   "source": [
    "hvgs_df_panck = log_transformed_expr.loc[rois_panck,HVGs_panck].reset_index().rename(columns={\"index\": \"ROI_ID\"})\n",
    "hvgs_df_cd45 = log_transformed_expr.loc[rois_cd45,HVGs_cd45].reset_index().rename(columns={\"index\": \"ROI_ID\"})"
   ]
  },
  {
   "cell_type": "code",
   "execution_count": null,
   "metadata": {},
   "outputs": [],
   "source": [
    "\n",
    "#hvgs_df_panck = expression_matrix.T.loc[rois_panck,HVGs_panck].reset_index().rename(columns={\"index\": \"ROI_ID\"})\n",
    "#hvgs_df_cd45 = expression_matrix.T.loc[rois_cd45,HVGs_cd45].reset_index().rename(columns={\"index\": \"ROI_ID\"})"
   ]
  },
  {
   "cell_type": "code",
   "execution_count": null,
   "metadata": {},
   "outputs": [],
   "source": [
    "hvgs_df_panck.to_csv(os.path.join(input_path,'truthlabels',f\"hvgs_panck_raw.csv\"), index=False)\n",
    "hvgs_df_cd45.to_csv(os.path.join(input_path,'truthlabels',f\"hvgs_cd45_raw.csv\"), index=False)"
   ]
  },
  {
   "cell_type": "markdown",
   "metadata": {},
   "source": [
    "## SVGs"
   ]
  },
  {
   "cell_type": "code",
   "execution_count": null,
   "metadata": {},
   "outputs": [],
   "source": [
    "results = {}\n",
    "\n",
    "for leapid in adata.obs[\"LEAPID\"].unique():\n",
    "    for segment in ['CD45+','PanCK+']:\n",
    "        subset = adata[\n",
    "            (adata.obs[\"LEAPID\"] == leapid) &\n",
    "            (adata.obs[\"segment\"] == segment)\n",
    "        ].copy()\n",
    "        \n",
    "\n",
    "        # Compute spatial graph and spatial autocorrelation\n",
    "        n_obs = subset.n_obs\n",
    "\n",
    "        if n_obs > 1:\n",
    "            #print(f\"{leapid} {segment} {n_obs}\")\n",
    "            n_neighbors = min(5, n_obs - 1)\n",
    "\n",
    "\n",
    "            # Build spatial graph and compute Moran’s I\n",
    "            sq.gr.spatial_neighbors(subset, coord_type=\"generic\", n_neighs=n_neighbors)\n",
    "            sq.gr.spatial_autocorr(subset, mode=\"moran\")\n",
    "\n",
    "            # Extract top genes\n",
    "            moranI = subset.uns['moranI']\n",
    "            top_genes = moranI.sort_values(\"I\", ascending=False).head(10)\n",
    "\n",
    "            results[(leapid, segment)] = top_genes\n",
    "            #print(f\"Top genes for {leapid}-{segment}: {top_genes.index.tolist()}\")"
   ]
  },
  {
   "cell_type": "code",
   "execution_count": null,
   "metadata": {},
   "outputs": [],
   "source": [
    "from collections import defaultdict, Counter\n",
    "\n",
    "# Dictionary: segment → Counter of gene frequencies\n",
    "gene_counts_by_segment = defaultdict(Counter)\n",
    "\n",
    "top_n = 20  # Adjust based on how many top genes you consider\n",
    "\n",
    "for (leapid, segment), df in results.items():\n",
    "    top_genes = df.head(top_n).index.tolist()\n",
    "    gene_counts_by_segment[segment].update(top_genes)"
   ]
  },
  {
   "cell_type": "markdown",
   "metadata": {},
   "source": [
    "Get top 50 SVGs per segment"
   ]
  },
  {
   "cell_type": "code",
   "execution_count": null,
   "metadata": {},
   "outputs": [],
   "source": [
    "SVGs_cd45 = [gene for segment, counter in gene_counts_by_segment.items() for gene,_ in counter.most_common(50) if segment=='CD45+']\n",
    "SVGs_cd45"
   ]
  },
  {
   "cell_type": "code",
   "execution_count": null,
   "metadata": {},
   "outputs": [],
   "source": [
    "SVGs_panck = [gene for segment, counter in gene_counts_by_segment.items() for gene,_ in counter.most_common(50) if segment=='PanCK+']\n",
    "SVGs_panck"
   ]
  },
  {
   "cell_type": "code",
   "execution_count": null,
   "metadata": {},
   "outputs": [],
   "source": [
    "svgs_df_panck = log_transformed_expr.loc[rois_panck,SVGs_panck].reset_index().rename(columns={\"index\": \"ROI_ID\"})\n",
    "svgs_df_cd45 = log_transformed_expr.loc[rois_cd45,SVGs_cd45].reset_index().rename(columns={\"index\": \"ROI_ID\"})"
   ]
  },
  {
   "cell_type": "code",
   "execution_count": null,
   "metadata": {},
   "outputs": [],
   "source": [
    "\n",
    "#svgs_df_panck = expression_matrix.T.loc[rois_panck,SVGs_panck].reset_index().rename(columns={\"index\": \"ROI_ID\"})\n",
    "#svgs_df_cd45 = expression_matrix.T.loc[rois_cd45,SVGs_cd45].reset_index().rename(columns={\"index\": \"ROI_ID\"})"
   ]
  },
  {
   "cell_type": "code",
   "execution_count": null,
   "metadata": {},
   "outputs": [],
   "source": [
    "svgs_df_panck.to_csv(os.path.join(input_path,'truthlabels',f\"svgs_panck_raw.csv\"), index=False)\n",
    "svgs_df_cd45.to_csv(os.path.join(input_path,'truthlabels',f\"svgs_cd45_raw.csv\"), index=False)"
   ]
  },
  {
   "cell_type": "markdown",
   "metadata": {},
   "source": [
    "## Single Gene"
   ]
  },
  {
   "cell_type": "markdown",
   "metadata": {},
   "source": [
    "Select whether CD45 or PanCK"
   ]
  },
  {
   "cell_type": "code",
   "execution_count": null,
   "metadata": {},
   "outputs": [],
   "source": [
    "segment_expression_matrix = expression_matrix[rois_cd45]\n"
   ]
  },
  {
   "cell_type": "markdown",
   "metadata": {},
   "source": [
    "Get expression data for just ROIs from the specified segment"
   ]
  },
  {
   "cell_type": "code",
   "execution_count": null,
   "metadata": {},
   "outputs": [],
   "source": [
    "# Select a specific gene\n",
    "gene = \"IGHG4\"  # Replace with the gene of interest\n",
    "\n",
    "print(gene in expression_matrix.index)\n",
    "print(gene in segment_expression_matrix.index)"
   ]
  },
  {
   "cell_type": "markdown",
   "metadata": {},
   "source": [
    "\n",
    "### Visualize gene distribution"
   ]
  },
  {
   "cell_type": "markdown",
   "metadata": {},
   "source": [
    "#### Whole Distribution of gene"
   ]
  },
  {
   "cell_type": "code",
   "execution_count": null,
   "metadata": {},
   "outputs": [],
   "source": [
    "expression_data = segment_expression_matrix.loc[gene,:] \n",
    "expression_df = pd.DataFrame({\n",
    "    \"ROI_ID\": expression_data.index ,\n",
    "    f\"{gene}\": expression_data.values,\n",
    "})\n",
    "gene_expr = expression_df[gene]"
   ]
  },
  {
   "cell_type": "code",
   "execution_count": null,
   "metadata": {},
   "outputs": [],
   "source": [
    "\n",
    "single_violin(gene_expr,gene)"
   ]
  },
  {
   "cell_type": "markdown",
   "metadata": {},
   "source": [
    "#### Histplot"
   ]
  },
  {
   "cell_type": "code",
   "execution_count": null,
   "metadata": {},
   "outputs": [],
   "source": [
    "sns.histplot(gene_expr, kde=True, bins=50)\n",
    "plt.title(f'Distribution of {gene} expression')\n",
    "plt.xlabel('Expression Value')\n",
    "plt.ylabel('Frequency')\n",
    "plt.show()"
   ]
  },
  {
   "cell_type": "code",
   "execution_count": null,
   "metadata": {},
   "outputs": [],
   "source": [
    "summary = pd.Series(gene_expr).describe()\n",
    "print(summary)"
   ]
  },
  {
   "cell_type": "markdown",
   "metadata": {},
   "source": [
    "#### Boxplot for outliers"
   ]
  },
  {
   "cell_type": "code",
   "execution_count": null,
   "metadata": {},
   "outputs": [],
   "source": [
    "sns.boxplot(x=gene_expr)\n",
    "plt.title(f'Boxplot of {gene} Expression')\n",
    "plt.show()"
   ]
  },
  {
   "cell_type": "markdown",
   "metadata": {},
   "source": [
    "#### Skewness & Kurtosis\n",
    "Skewness > 1 or < -1 = highly skewed\n",
    "\n",
    "Kurtosis > 3 = heavy tails (long-tailed)\n"
   ]
  },
  {
   "cell_type": "code",
   "execution_count": null,
   "metadata": {},
   "outputs": [],
   "source": [
    "from scipy.stats import skew, kurtosis\n",
    "\n",
    "print(f\"Skewness: {skew(gene_expr)}\")\n",
    "print(f\"Kurtosis: {kurtosis(gene_expr)}\")"
   ]
  },
  {
   "cell_type": "markdown",
   "metadata": {},
   "source": [
    "#### QQ Plot\n",
    "Strong upward bend = right-skewed / long tail"
   ]
  },
  {
   "cell_type": "code",
   "execution_count": null,
   "metadata": {},
   "outputs": [],
   "source": [
    "import scipy.stats as stats\n",
    "\n",
    "stats.probplot(gene_expr, dist=\"norm\", plot=plt)\n",
    "plt.title(f'Q-Q Plot of {gene} Expression')\n",
    "plt.show()"
   ]
  },
  {
   "cell_type": "markdown",
   "metadata": {},
   "source": [
    "consider log transforming the expression \n",
    "y_train_log = np.log1p(y_train) "
   ]
  },
  {
   "cell_type": "markdown",
   "metadata": {},
   "source": [
    "### Save Expression csv"
   ]
  },
  {
   "cell_type": "markdown",
   "metadata": {},
   "source": [
    "Initialise outcomes to all zeros"
   ]
  },
  {
   "cell_type": "markdown",
   "metadata": {},
   "source": [
    "save to csv"
   ]
  },
  {
   "cell_type": "code",
   "execution_count": null,
   "metadata": {},
   "outputs": [],
   "source": [
    "expression_df.to_csv(os.path.join(input_path,'truthlabels',f\"{gene}_{segment}_expression.csv\"), index=False)"
   ]
  },
  {
   "cell_type": "markdown",
   "metadata": {},
   "source": [
    "# END\n"
   ]
  }
 ],
 "metadata": {
  "kernelspec": {
   "display_name": "multi3",
   "language": "python",
   "name": "python3"
  },
  "language_info": {
   "codemirror_mode": {
    "name": "ipython",
    "version": 3
   },
   "file_extension": ".py",
   "mimetype": "text/x-python",
   "name": "python",
   "nbconvert_exporter": "python",
   "pygments_lexer": "ipython3",
   "version": "3.11.12"
  }
 },
 "nbformat": 4,
 "nbformat_minor": 2
}
